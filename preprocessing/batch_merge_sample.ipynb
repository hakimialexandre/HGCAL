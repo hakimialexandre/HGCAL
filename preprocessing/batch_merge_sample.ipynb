{
 "cells": [
  {
   "cell_type": "code",
   "execution_count": 1,
   "metadata": {},
   "outputs": [],
   "source": [
    "import os\n",
    "import pandas as pd\n",
    "import numpy as np\n",
    "from matplotlib import pyplot\n",
    "import seaborn as sns\n",
    "from sklearn import metrics"
   ]
  },
  {
   "cell_type": "code",
   "execution_count": 2,
   "metadata": {},
   "outputs": [],
   "source": [
    "dir_name='/QCD'\n",
    "workdir=os.getcwd()\n",
    "sample='QCD'\n",
    "os.makedirs(workdir+dir_name, exist_ok=True)\n",
    "data_dir=workdir+dir_name\n",
    "sample_dir='/data_cms_upgrade/hakimi/preprocessing//v_8_2022-11-03200PU/QCD'\n",
    "\n"
   ]
  },
  {
   "cell_type": "code",
   "execution_count": 4,
   "metadata": {},
   "outputs": [],
   "source": [
    "#if running different backend algos, save everyone of them separately\n",
    "algo_name={}\n",
    "name_full={}\n",
    "i=0\n",
    "for item in os.listdir(sample_dir+'/{}_0'.format(sample)):\n",
    "    #if 'Floating' in item:\n",
    "    if ('csv' in item and 'gen' not in item):\n",
    "        name_full[i]=item[:-4]\n",
    "        #algo_name[i]=item[14:-31]\n",
    "        algo_name[i]=item[:-4]\n",
    "        i=i+1\n",
    "name_full\n",
    "name_full={0: 'cl3d'}\n",
    "\n",
    "\n",
    "list_sample=[]\n",
    "\n",
    "algo={}\n",
    "for item in os.listdir(sample_dir):\n",
    "    if sample in item:\n",
    "        list_sample.append(item)\n"
   ]
  },
  {
   "cell_type": "code",
   "execution_count": 6,
   "metadata": {},
   "outputs": [],
   "source": [
    "#variables to keep\n",
    "columns=['event', 'genjet_n', 'genjet_energy', 'genjet_pt', 'genjet_eta',\n",
    "       'genjet_phi', 'cl3d_pt', 'cl3d_energy', 'cl3d_eta',\n",
    "       'cl3d_phi',  'cl3d_layer_pt',\n",
    "       'cl3d_showerlength', 'cl3d_coreshowerlength', 'cl3d_firstlayer',\n",
    "       'cl3d_maxlayer', 'cl3d_seetot', 'cl3d_seemax', 'cl3d_spptot',\n",
    "       'cl3d_sppmax', 'cl3d_szz', 'cl3d_srrtot', 'cl3d_srrmax', 'cl3d_srrmean',\n",
    "       'cl3d_emaxe', 'cl3d_hoe', 'cl3d_meanz', 'cl3d_layer10', 'cl3d_layer50',\n",
    "       'cl3d_layer90', 'cl3d_ntc67', 'cl3d_ntc90', 'layer', 'deta', 'dphi',\n",
    "       'deltar', 'matches',]\n"
   ]
  },
  {
   "cell_type": "code",
   "execution_count": 10,
   "metadata": {
    "scrolled": true
   },
   "outputs": [
    {
     "name": "stdout",
     "output_type": "stream",
     "text": [
      "processing QCD\n",
      "1/25\n",
      "2/25\n",
      "3/25\n",
      "4/25\n",
      "5/25\n",
      "6/25\n",
      "7/25\n",
      "8/25\n",
      "9/25\n",
      "10/25\n",
      "11/25\n",
      "12/25\n",
      "13/25\n",
      "14/25\n",
      "15/25\n",
      "16/25\n",
      "17/25\n",
      "18/25\n",
      "19/25\n",
      "20/25\n",
      "21/25\n",
      "22/25\n",
      "23/25\n",
      "24/25\n",
      "25/25\n",
      "1/1\n",
      "saving files\n",
      "done\n"
     ]
    }
   ],
   "source": [
    "print('processing {}'.format(sample))\n",
    "for i,item in enumerate(list_sample):\n",
    "    print('{}/{}'.format(i+1,len(list_sample)))\n",
    "    \n",
    "    if i ==0:\n",
    "        \n",
    "        #gen=pd.read_csv(sample_dir+'/'+item+'/gen_clean.csv')\n",
    "    \n",
    "        for j in (algo_name):\n",
    "            algo[j]=pd.read_csv(sample_dir+'/'+item+'/'+name_full[j]+'.csv', usecols=columns)\n",
    "            if 'PU' in sample:\n",
    "            #cut at 20 GeV\n",
    "                algo[j]=algo[j][algo[j]['cl3d_pt']>20]\n",
    "            elif 'QCD' in sample:\n",
    "                algo[j]=algo[j][algo[j]['genjet_pt']>20]\n",
    " \n",
    "    else:\n",
    "        if '51' not in item:\n",
    "            #gen=pd.concat([gen,pd.read_csv(sample_dir+'/'+item+'/gen_clean.csv')])\n",
    "            for j in algo_name:\n",
    "                current= pd.read_csv(sample_dir+'/'+item+'/'+name_full[j]+'.csv', usecols=columns)\n",
    "                if 'PU' in sample:\n",
    "                    current=current[(current['cl3d_pt']>20) & (np.abs(current['cl3d_eta'])>1.6) & (np.abs(current['cl3d_eta'])<2.9)]\n",
    "                    \n",
    "                elif 'QCD' in sample:\n",
    "                    current = current[current['genjet_pt']>20]\n",
    "                algo[j]=pd.concat([algo[j],current])\n",
    "\n",
    "    \n",
    "\n",
    "            \n",
    "for i in range(len(algo_name)):\n",
    "    \n",
    "    print('{}/{}'.format(i+1,len(algo_name)))\n",
    "    print('saving files')\n",
    "    algo[i]['sample']=sample\n",
    "    algo[i].to_csv(data_dir+'/{}_4.csv'.format(sample))\n",
    "print('done')"
   ]
  }
 ],
 "metadata": {
  "kernelspec": {
   "display_name": "Python 3",
   "language": "python",
   "name": "python3"
  },
  "language_info": {
   "codemirror_mode": {
    "name": "ipython",
    "version": 3
   },
   "file_extension": ".py",
   "mimetype": "text/x-python",
   "name": "python",
   "nbconvert_exporter": "python",
   "pygments_lexer": "ipython3",
   "version": "3.7.0"
  }
 },
 "nbformat": 4,
 "nbformat_minor": 2
}
