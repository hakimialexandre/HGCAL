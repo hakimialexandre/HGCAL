{
 "cells": [
  {
   "cell_type": "markdown",
   "metadata": {},
   "source": [
    "# Compute alternative variables\n",
    "## New studies should use the versions implemented in CMSSW"
   ]
  },
  {
   "cell_type": "code",
   "execution_count": 1,
   "metadata": {},
   "outputs": [],
   "source": [
    "import os\n",
    "import pandas as pd\n",
    "import numpy as np\n",
    "from matplotlib import pyplot as plt\n",
    "import seaborn as sns\n",
    "from sklearn import metrics\n",
    "import matplotlib\n",
    "import imblearn\n",
    "from sklearn.model_selection import train_test_split\n",
    "import collections\n",
    "from sklearn.metrics import roc_curve, auc\n",
    "from collections import Counter\n",
    "pd.options.mode.chained_assignment = None"
   ]
  },
  {
   "cell_type": "code",
   "execution_count": 2,
   "metadata": {},
   "outputs": [],
   "source": [
    "workdir=os.getcwd()\n",
    "samples = ['elec','PU', 'QCD'] #list of samples to process, should correspond to file naming \n",
    "savedir = workdir + '/New_vars' #output dir\n",
    "os.makedirs(savedir, exist_ok=True)\n",
    "data_dir=workdir+'/preprocessing/200PU_2806' #path to the preprocessed ntuples"
   ]
  },
  {
   "cell_type": "code",
   "execution_count": 21,
   "metadata": {},
   "outputs": [
    {
     "name": "stdout",
     "output_type": "stream",
     "text": [
      "done\n"
     ]
    }
   ],
   "source": [
    "# choice of variables for each sample type\n",
    "\n",
    "columns={}\n",
    "df_samples={}\n",
    "\n",
    "columns['elec']=['genpart_exeta', 'genpart_pt', 'cl3d_pt', 'cl3d_eta', 'cl3d_showerlength', 'cl3d_coreshowerlength',\n",
    " 'cl3d_firstlayer', 'cl3d_maxlayer', 'cl3d_seetot', 'cl3d_seemax', 'cl3d_spptot', 'cl3d_sppmax', 'cl3d_szz',\n",
    " 'cl3d_srrtot', 'cl3d_srrmax', 'cl3d_srrmean', 'cl3d_emaxe', 'cl3d_hoe', 'cl3d_meanz', 'cl3d_layer10', 'cl3d_layer50',\n",
    " 'cl3d_layer90', 'cl3d_ntc67', 'cl3d_ntc90', 'layer', 'sample',  'matches',      \n",
    "        ]\n",
    "\n",
    "\n",
    "columns['QCD'] =['event', 'genjet_n', 'genjet_energy', 'genjet_pt', 'genjet_eta',\n",
    "       'genjet_phi', 'cl3d_pt', 'cl3d_energy', 'cl3d_eta',\n",
    "       'cl3d_phi', \n",
    "       'cl3d_showerlength', 'cl3d_coreshowerlength', 'cl3d_firstlayer',\n",
    "       'cl3d_maxlayer', 'cl3d_seetot', 'cl3d_seemax', 'cl3d_spptot',\n",
    "       'cl3d_sppmax', 'cl3d_szz', 'cl3d_srrtot', 'cl3d_srrmax', 'cl3d_srrmean',\n",
    "       'cl3d_emaxe', 'cl3d_hoe', 'cl3d_meanz', 'cl3d_layer10', 'cl3d_layer50',\n",
    "       'cl3d_layer90', 'cl3d_ntc67', 'cl3d_ntc90', 'layer', 'deta', 'dphi',\n",
    "       'deltar', 'matches',]\n",
    "\n",
    "\n",
    "columns['PU'] = ['event', 'cl3d_pt', 'cl3d_energy', 'cl3d_eta', 'cl3d_phi', \n",
    "       'cl3d_showerlength', 'cl3d_coreshowerlength', 'cl3d_firstlayer',\n",
    "       'cl3d_maxlayer', 'cl3d_seetot', 'cl3d_seemax', 'cl3d_spptot',\n",
    "       'cl3d_sppmax', 'cl3d_szz', 'cl3d_srrtot', 'cl3d_srrmax', 'cl3d_srrmean',\n",
    "       'cl3d_emaxe', 'cl3d_hoe', 'cl3d_meanz', 'cl3d_layer10', 'cl3d_layer50',\n",
    "       'cl3d_layer90', 'cl3d_ntc67', 'cl3d_ntc90', 'layer',]\n",
    "\n",
    "\n",
    "for s in samples:\n",
    "    df_samples[s]= pd.read_csv(data_dir+'/{}.csv'.format(s), usecols=columns[s], low_memory=True)\n",
    "print('done')"
   ]
  },
  {
   "cell_type": "markdown",
   "metadata": {},
   "source": [
    "# Preprocessing"
   ]
  },
  {
   "cell_type": "code",
   "execution_count": 23,
   "metadata": {},
   "outputs": [],
   "source": [
    "# select cuts on data\n",
    "\n",
    "genptcut=20 # cut on gen pt in GeV\n",
    "cl3dptcut=5 # cut on cluster pt in GeV\n",
    "PU_cut = 20 #cut on PU cluster pt in GeV\n",
    "etamin=1.6 #cut on cluster eta\n",
    "etamax=2.9 #cut on cluster eta\n"
   ]
  },
  {
   "cell_type": "code",
   "execution_count": 53,
   "metadata": {},
   "outputs": [
    {
     "name": "stdout",
     "output_type": "stream",
     "text": [
      "elec\n"
     ]
    },
    {
     "name": "stderr",
     "output_type": "stream",
     "text": [
      "/opt/exp_soft/llr/python/3.7.0/el7/lib/python3.7/site-packages/ipykernel_launcher.py:14: SettingWithCopyWarning: \n",
      "A value is trying to be set on a copy of a slice from a DataFrame\n",
      "\n",
      "See the caveats in the documentation: http://pandas.pydata.org/pandas-docs/stable/indexing.html#indexing-view-versus-copy\n",
      "  \n"
     ]
    },
    {
     "name": "stdout",
     "output_type": "stream",
     "text": [
      "PU\n"
     ]
    },
    {
     "name": "stderr",
     "output_type": "stream",
     "text": [
      "/opt/exp_soft/llr/python/3.7.0/el7/lib/python3.7/site-packages/ipykernel_launcher.py:19: SettingWithCopyWarning: \n",
      "A value is trying to be set on a copy of a slice from a DataFrame\n",
      "\n",
      "See the caveats in the documentation: http://pandas.pydata.org/pandas-docs/stable/indexing.html#indexing-view-versus-copy\n"
     ]
    },
    {
     "name": "stdout",
     "output_type": "stream",
     "text": [
      "QCD\n",
      "CPU times: user 964 ms, sys: 143 ms, total: 1.11 s\n",
      "Wall time: 1.1 s\n"
     ]
    }
   ],
   "source": [
    "%%time\n",
    "\n",
    "count=Counter\n",
    "df_cut={}\n",
    "\n",
    "#select clusters based on eta and pt\n",
    "for s in samples:\n",
    "    df_samples[s]['abseta']=np.abs(df_samples[s]['cl3d_eta'])\n",
    "    print(s)\n",
    "    if s=='elec': #add samples that have genpart here\n",
    "        sel = ((np.abs(df_samples[s]['genpart_exeta'])>etamin) & (np.abs(df_samples[s]['genpart_exeta'])<etamax )\n",
    "               & (df_samples[s]['genpart_pt']>genptcut)&  (df_samples[s]['cl3d_pt']>cl3dptcut) \n",
    "               &(df_samples[s]['abseta']>etamin) & (df_samples[s]['abseta']<etamax ))\n",
    "        df_cut[s]=df_samples[s][sel]\n",
    "        df_cut[s].dropna(inplace=True)\n",
    "\n",
    "    elif s!='elec':\n",
    "        sel = ((np.abs(df_samples[s]['cl3d_eta'])>etamin) & (np.abs(df_samples[s]['cl3d_eta'])<etamax )&(df_samples[s]['cl3d_pt']>PU_cut))\n",
    "        df_cut[s]=df_samples[s][sel]\n",
    "        df_cut[s].dropna(inplace=True)\n"
   ]
  },
  {
   "cell_type": "code",
   "execution_count": 54,
   "metadata": {},
   "outputs": [
    {
     "name": "stderr",
     "output_type": "stream",
     "text": [
      "/opt/exp_soft/llr/python/3.7.0/el7/lib/python3.7/site-packages/ipykernel_launcher.py:14: SettingWithCopyWarning: \n",
      "A value is trying to be set on a copy of a slice from a DataFrame.\n",
      "Try using .loc[row_indexer,col_indexer] = value instead\n",
      "\n",
      "See the caveats in the documentation: http://pandas.pydata.org/pandas-docs/stable/indexing.html#indexing-view-versus-copy\n",
      "  \n"
     ]
    },
    {
     "name": "stdout",
     "output_type": "stream",
     "text": [
      "done\n",
      "layering: 1/36\r"
     ]
    },
    {
     "name": "stderr",
     "output_type": "stream",
     "text": [
      "/opt/exp_soft/llr/python/3.7.0/el7/lib/python3.7/site-packages/pandas/core/frame.py:3940: SettingWithCopyWarning: \n",
      "A value is trying to be set on a copy of a slice from a DataFrame\n",
      "\n",
      "See the caveats in the documentation: http://pandas.pydata.org/pandas-docs/stable/indexing.html#indexing-view-versus-copy\n",
      "  errors=errors)\n"
     ]
    },
    {
     "name": "stdout",
     "output_type": "stream",
     "text": [
      "layering: 2/36\r"
     ]
    },
    {
     "name": "stderr",
     "output_type": "stream",
     "text": [
      "/opt/exp_soft/llr/python/3.7.0/el7/lib/python3.7/site-packages/ipykernel_launcher.py:23: SettingWithCopyWarning: \n",
      "A value is trying to be set on a copy of a slice from a DataFrame.\n",
      "Try using .loc[row_indexer,col_indexer] = value instead\n",
      "\n",
      "See the caveats in the documentation: http://pandas.pydata.org/pandas-docs/stable/indexing.html#indexing-view-versus-copy\n"
     ]
    },
    {
     "name": "stdout",
     "output_type": "stream",
     "text": [
      "done layering36\n",
      "done\n",
      "done layering36\n",
      "done\n",
      "done layering36\n",
      "CPU times: user 4min 36s, sys: 15.3 s, total: 4min 51s\n",
      "Wall time: 4min 52s\n"
     ]
    }
   ],
   "source": [
    "%%time\n",
    "#extract pt per layer info for computing the new variables\n",
    "\n",
    "def tolist(x):\n",
    "    x.test=x.layer[1:-1].split(',')\n",
    "    return x.test\n",
    "\n",
    "def layering (x):\n",
    "    return float(x.layer_pt[n])\n",
    "\n",
    "for s in samples:\n",
    "    print('Layering {}:'.format(s))\n",
    "    #layer_pt preproc\n",
    "    df_cut[s]['layer_pt']=df_cut[s].apply(tolist, axis=1)\n",
    "    df_cut[s].drop('layer', axis=1, inplace=True)\n",
    "    print(\"done\")\n",
    "    n_layers=len(df_cut['elec']['layer_pt'].iloc[0])\n",
    "    #print(n_layers)\n",
    "    layer_columns=[]\n",
    "\n",
    "    for n in range(n_layers):\n",
    "        print('layering: {}/{}\\r'.format(n+1,n_layers),end='', flush=True)\n",
    "        df_cut[s]['layer_{}'.format(n)]=df_cut[s].apply(layering, axis=1)\n",
    "        layer_columns.append('layer_{}'.format(n))\n",
    "    print(\"done layering\")  \n",
    "    \n"
   ]
  },
  {
   "cell_type": "markdown",
   "metadata": {},
   "source": [
    "# Build alternative variables (easier to compute with HGCAL primitives)"
   ]
  },
  {
   "cell_type": "code",
   "execution_count": 55,
   "metadata": {},
   "outputs": [],
   "source": [
    "#bitmap functions\n",
    "def ebm0(x):\n",
    "    ebm=[]\n",
    "    thr=0\n",
    "    for i in range(1,nLayerEcal+1):\n",
    "        #print(float(x.layer_pt[i])>thr)\n",
    "        ebm.append(int(float(x.layer_pt[i])>thr)) \n",
    "    #print(ebm)\n",
    "    return(np.array(ebm).dot(2**np.arange(len(ebm))[::-1]))\n",
    "def ebm1(x):\n",
    "    ebm=[]\n",
    "    thr=1\n",
    "    for i in range(1,nLayerEcal+1):\n",
    "        #print(float(x.layer_pt[i])>thr)\n",
    "        ebm.append(int(float(x.layer_pt[i])>thr)) \n",
    "    #print(ebm)\n",
    "    return(np.array(ebm).dot(2**np.arange(len(ebm))[::-1]))\n",
    "def hbm(x):\n",
    "    ebm=[]\n",
    "    thr=0\n",
    "    for i in range(nLayerEcal+1,n_layers):\n",
    "        #print(float(x.layer_pt[i])>thr)\n",
    "        ebm.append(int(float(x.layer_pt[i])>thr)) \n",
    "    #print(ebm)\n",
    "    return(np.array(ebm).dot(2**np.arange(len(ebm))[::-1]))\n",
    "\n",
    "def reverse_ebm0(x):\n",
    "    ebm=[]\n",
    "    thr=0\n",
    "    for i in range(nLayerEcal, 0, -1):\n",
    "        #print(float(x.layer_pt[i])>thr)\n",
    "        ebm.append(int(float(x.layer_pt[i])>thr)) \n",
    "    #print(ebm)\n",
    "    return(np.array(ebm).dot(2**np.arange(len(ebm))[::-1]))\n",
    "def reverse_ebm1(x):\n",
    "    ebm=[]\n",
    "    thr=1\n",
    "    for i in range(nLayerEcal, 0, -1):\n",
    "        #print(float(x.layer_pt[i])>thr)\n",
    "        ebm.append(int(float(x.layer_pt[i])>thr)) \n",
    "    #print(ebm)\n",
    "    return(np.array(ebm).dot(2**np.arange(len(ebm))[::-1]))\n",
    "def reverse_hbm(x):\n",
    "    ebm=[]\n",
    "    thr=0\n",
    "    for i in range(n_layers-1,nLayerEcal-1, -1):\n",
    "        #print(float(x.layer_pt[i])>thr)\n",
    "        ebm.append(int(float(x.layer_pt[i])>thr)) \n",
    "    #print(ebm)\n",
    "    return(np.array(ebm).dot(2**np.arange(len(ebm))[::-1]))"
   ]
  },
  {
   "cell_type": "code",
   "execution_count": 58,
   "metadata": {},
   "outputs": [
    {
     "name": "stdout",
     "output_type": "stream",
     "text": [
      "Computing variables for  elec\n",
      "Computing variables for  PU\n",
      "Computing variables for  QCD\n",
      "done\n"
     ]
    }
   ],
   "source": [
    "for s in samples:\n",
    "    print('Computing variables for ', s)\n",
    "\n",
    "    #std deviations replaced with variances\n",
    "    df_cut[s]['varee']=df_cut[s]['cl3d_seetot']**2\n",
    "    df_cut[s]['varpp']=df_cut[s]['cl3d_spptot']**2\n",
    "    df_cut[s]['varzz']=df_cut[s]['cl3d_szz']**2\n",
    "    df_cut[s]['varrr']=df_cut[s]['cl3d_srrtot']**2\n",
    "\n",
    "    #Replace H/E by EoT: pt(Ecal)/pt(Tot), always defined\n",
    "    nLayerEcal= 14\n",
    "    sumE=0\n",
    "    sumT=0\n",
    "    for i in range(n_layers):\n",
    "        sumT+=df_cut[s]['layer_{}'.format(i)]\n",
    "    for i in range(1,nLayerEcal+1):\n",
    "        sumE+=df_cut[s]['layer_{}'.format(i)]\n",
    "    df_cut[s]['EoT']=sumE/sumT\n",
    "\n",
    "    #fraction of pt in first x  layers and last x layers\n",
    "    maxfirst = 5\n",
    "    maxlast=10\n",
    "    #firstX\n",
    "    for n in range(1,maxfirst+1):\n",
    "        Sum=0\n",
    "        for i in range(1,n+1):\n",
    "            Sum+=df_cut[s]['layer_{}'.format(i)]\n",
    "        df_cut[s]['first_{}'.format(n)]= Sum/sumT\n",
    "    #lastX\n",
    "    for n in range(1,maxlast):\n",
    "        Sum=0\n",
    "        #print(n, ' layers')\n",
    "        for i in range(n_layers - n, n_layers):\n",
    "            #print(n,i)\n",
    "            Sum+=df_cut[s]['layer_{}'.format(i)]\n",
    "        #print('last_{}'.format(n), sum/sumT)\n",
    "        df_cut[s]['last_{}'.format(n)]= Sum/sumT\n",
    "    #first HCAL X\n",
    "    for n in range(1,maxfirst+1):\n",
    "        Sum=0\n",
    "        for i in range(1,n+1):\n",
    "            #print('layer_{}'.format(nLayerEcal+i))\n",
    "            Sum+=df_cut[s]['layer_{}'.format(nLayerEcal+i)]\n",
    "        df_cut[s]['firstHcal_{}'.format(n)]= Sum/sumT\n",
    "    \n",
    "    \n",
    "    # Emaxx : pt in x layers around Elec max layer (5)\n",
    "    maxpos=5 #typical electron cluster max shower on 6th layer\n",
    "\n",
    "    #print('emax_1')\n",
    "    Sum=0\n",
    "    Sum+=df_cut[s]['layer_{}'.format(maxpos)]\n",
    "    df_cut[s]['Emax_1']=Sum/sumT\n",
    "\n",
    "    #print('emax_2L')\n",
    "    Sum=0\n",
    "    for i in range(maxpos-1, maxpos+1):\n",
    "        #print(i)\n",
    "        Sum+=df_cut[s]['layer_{}'.format(i)]\n",
    "        df_cut[s]['Emax_2L']=Sum/sumT\n",
    "    \n",
    "    #print('emax_2R')\n",
    "    Sum=0\n",
    "    for i in range(maxpos, maxpos+2):\n",
    "        #print(i)\n",
    "        Sum+=df_cut[s]['layer_{}'.format(i)]\n",
    "        df_cut[s]['Emax_2R']=Sum/sumT\n",
    "\n",
    "    #print('emax_3')\n",
    "    Sum=0\n",
    "    for i in range(maxpos-1, maxpos+2):\n",
    "        #print(i)\n",
    "        Sum+=df_cut[s]['layer_{}'.format(i)]\n",
    "        df_cut[s]['Emax_3']=Sum/sumT\n",
    "    #print('emax_4G')\n",
    "    Sum=0\n",
    "    for i in range(maxpos-2, maxpos+2):\n",
    "        #print(i)\n",
    "        Sum+=df_cut[s]['layer_{}'.format(i)]\n",
    "        df_cut[s]['Emax_4L']=Sum/sumT\n",
    "    #print('emax_4R')\n",
    "    Sum=0\n",
    "    for i in range(maxpos-1, maxpos+3):\n",
    "        #print(i)\n",
    "        Sum+=df_cut[s]['layer_{}'.format(i)]\n",
    "        df_cut[s]['Emax_4R']=Sum/sumT\n",
    "    #print('emax_5')\n",
    "    Sum=0\n",
    "    for i in range(maxpos-2, maxpos+3):\n",
    "        #print(i)\n",
    "        Sum+=df_cut[s]['layer_{}'.format(i)]\n",
    "        df_cut[s]['Emax_5']=Sum/sumT\n",
    "        \n",
    "    #Bitmaps of energy in CE-E/CE-H, threshold not implemented yet in CMSSW\n",
    "   \n",
    "\n",
    "    df_cut[s]['ebm0']=df_cut[s].apply(ebm0, axis=1)\n",
    "    df_cut[s]['ebm1']=df_cut[s].apply(ebm1, axis=1)\n",
    "    df_cut[s]['hbm']=df_cut[s].apply(hbm, axis=1) \n",
    "    \n",
    "        \n",
    "    df_cut[s]['reverse_ebm0']=df_cut[s].apply(reverse_ebm0, axis=1)\n",
    "    df_cut[s]['reverse_ebm1']=df_cut[s].apply(reverse_ebm1, axis=1)\n",
    "    df_cut[s]['reverse_hbm']=df_cut[s].apply(reverse_hbm, axis=1)\n",
    "print('done')"
   ]
  },
  {
   "cell_type": "markdown",
   "metadata": {},
   "source": [
    "# Save files"
   ]
  },
  {
   "cell_type": "code",
   "execution_count": 62,
   "metadata": {},
   "outputs": [],
   "source": [
    "for s in samples:\n",
    "    df_cut[s].to_csv(savedir+'/{}_df.csv'.format(s))"
   ]
  }
 ],
 "metadata": {
  "kernelspec": {
   "display_name": "Python 3",
   "language": "python",
   "name": "python3"
  },
  "language_info": {
   "codemirror_mode": {
    "name": "ipython",
    "version": 3
   },
   "file_extension": ".py",
   "mimetype": "text/x-python",
   "name": "python",
   "nbconvert_exporter": "python",
   "pygments_lexer": "ipython3",
   "version": "3.7.0"
  }
 },
 "nbformat": 4,
 "nbformat_minor": 2
}
