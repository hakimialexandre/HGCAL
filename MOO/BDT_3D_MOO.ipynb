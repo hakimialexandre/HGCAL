{
 "cells": [
  {
   "cell_type": "code",
   "execution_count": 8,
   "metadata": {},
   "outputs": [],
   "source": [
    "import os\n",
    "import pandas as pd\n",
    "import numpy as np\n",
    "from matplotlib import pyplot as plt\n",
    "import seaborn as sns\n",
    "from sklearn import metrics\n",
    "import xgboost as xgb\n",
    "import matplotlib\n",
    "import torch\n",
    "import torch.utils.data as data_utils\n",
    "import torch.nn as nn\n",
    "import tensorflow as tf\n",
    "import imblearn\n",
    "from sklearn.model_selection import train_test_split\n",
    "import collections\n",
    "from sklearn.metrics import roc_curve, auc\n",
    "import pymoo\n",
    "import random"
   ]
  },
  {
   "cell_type": "code",
   "execution_count": 3,
   "metadata": {},
   "outputs": [],
   "source": [
    "data_dir='/grid_mnt/vol_home/llr/cms/hakimi/HGCAL/New_vars' # output from alternative_var.ipynb\n",
    "# select signal and background (not improtant for this estiamtion, I used elec vs PU)\n",
    "signal='elec' \n",
    "bkg = 'PU' \n",
    "df_sig= pd.read_csv(data_dir+'/{}_df.csv'.format(signal), low_memory=True)\n",
    "df_bkg=pd.read_csv(data_dir+'/{}_df.csv'.format(bkg), low_memory=True)\n",
    "#join dfs\n",
    "data=df_sig.append(df_bkg)\n",
    "savedir =os.getcwd() + '/moo/'+ bkg + '/'\n",
    "os.makedirs(savedir, exist_ok=True)\n",
    "\n",
    "import matplotlib\n",
    "font = {'family' : 'normal',\n",
    "        'weight' : 'normal',\n",
    "        'size'   : 18}\n",
    "\n",
    "matplotlib.rc('font', **font)"
   ]
  },
  {
   "cell_type": "markdown",
   "metadata": {},
   "source": [
    "# Config"
   ]
  },
  {
   "cell_type": "code",
   "execution_count": 4,
   "metadata": {},
   "outputs": [],
   "source": [
    "commonfeat=True #use set of variable optimal vs PU and pions at the same time, else use optimal for each case\n",
    "\n",
    "if commonfeat==False:\n",
    "\n",
    "    if bkg == 'pions':\n",
    "        features =['abseta', 'cl3d_firstlayer', 'varee', 'varpp', 'varzz', 'varrr',\n",
    "                     'cl3d_meanz', 'cl3d_showerlength','cl3d_coreshowerlength','EoT',\n",
    "                    'Emax_5', 'ebm1', 'Emax_4R', 'hbm', 'firstHcal_1', 'reverse_ebm1']\n",
    "\n",
    "\n",
    "    elif bkg == 'PU':\n",
    "        features = ['abseta', 'cl3d_firstlayer', 'varee', 'varpp', 'varzz', 'varrr',\n",
    "                     'cl3d_meanz', 'cl3d_showerlength','cl3d_coreshowerlength', 'EoT',\n",
    "                    'firstHcal_5', 'Emax_4R', 'ebm1', 'Emax_2R', 'firstHcal_1', 'Emax_5']\n",
    "\n",
    "    elif bkg == 'QCD':\n",
    "        features=  ['abseta', 'cl3d_firstlayer', 'varee', 'varpp', 'varzz', 'varrr',\n",
    "                     'cl3d_meanz', 'cl3d_showerlength','cl3d_coreshowerlength', 'EoT','ebm1', 'Emax_4R',\n",
    "                    'reverse_ebm1', 'first_2', 'Emax_2R', 'Emax_5', \n",
    "                    ]\n",
    "    elif bkg == 'PU+QCD':\n",
    "        features = ['abseta', 'cl3d_firstlayer', 'varee', 'varpp', 'varzz', 'varrr',\n",
    "                     'cl3d_meanz', 'cl3d_showerlength','cl3d_coreshowerlength', 'EoT',\n",
    "                    'firstHcal_5', 'Emax_4R', 'ebm1', 'Emax_2R', 'firstHcal_1', 'Emax_5']\n",
    "elif commonfeat==True:\n",
    "    features = ['abseta', 'cl3d_firstlayer', 'varee', 'varpp', 'varzz', 'varrr',\n",
    "                     'cl3d_meanz', 'cl3d_showerlength','cl3d_coreshowerlength', 'EoT',\n",
    "                    'firstHcal_5', 'Emax_4R', 'ebm1', 'Emax_2R', 'firstHcal_1', 'Emax_5', 'reverse_ebm1', 'hbm']"
   ]
  },
  {
   "cell_type": "code",
   "execution_count": null,
   "metadata": {},
   "outputs": [],
   "source": []
  },
  {
   "cell_type": "code",
   "execution_count": 6,
   "metadata": {},
   "outputs": [
    {
     "name": "stderr",
     "output_type": "stream",
     "text": [
      "/opt/exp_soft/llr/python/3.7.0/el7/lib/python3.7/site-packages/ipykernel_launcher.py:6: SettingWithCopyWarning: \n",
      "A value is trying to be set on a copy of a slice from a DataFrame\n",
      "\n",
      "See the caveats in the documentation: http://pandas.pydata.org/pandas-docs/stable/indexing.html#indexing-view-versus-copy\n",
      "  \n",
      "/opt/exp_soft/llr/python/3.7.0/el7/lib/python3.7/site-packages/ipykernel_launcher.py:7: SettingWithCopyWarning: \n",
      "A value is trying to be set on a copy of a slice from a DataFrame\n",
      "\n",
      "See the caveats in the documentation: http://pandas.pydata.org/pandas-docs/stable/indexing.html#indexing-view-versus-copy\n",
      "  import sys\n"
     ]
    }
   ],
   "source": [
    "#chose signal and background\n",
    "#balancing initialization\n",
    "\n",
    "data['signal']= 5\n",
    "data['weight']=0\n",
    "data['signal'][data['sample']==signal]= 1\n",
    "data['signal'][data['sample']!=signal] = 0\n",
    "balancing='comb' #'SMOTE', 'weights', 'ada', 'under', 'comb'"
   ]
  },
  {
   "cell_type": "markdown",
   "metadata": {},
   "source": [
    "# Multi objective optimization"
   ]
  },
  {
   "cell_type": "markdown",
   "metadata": {},
   "source": [
    "## 1. Select genes\n",
    "The genes are the different paramaters of the optimization\n",
    "\n",
    "-> alleles for each gene is the number of bits [2-16]\n",
    "\n",
    "-> add exception for discrete variables: 2**nbits <= range"
   ]
  },
  {
   "cell_type": "code",
   "execution_count": 69,
   "metadata": {},
   "outputs": [],
   "source": [
    "def maxbits(feat, maxbit):\n",
    "    if feat.dtype == 'float64':\n",
    "        return maxbit\n",
    "    elif feat.dtype =='int64':\n",
    "        nval = len(np.unique(feat))\n",
    "        print(nval)\n",
    "        for i in range(1,maxbit) : \n",
    "            if 2**i >= nval: return(i)\n",
    "        return(i)\n",
    "\n",
    "#change discrete functuions type to int\n",
    "discrete_cols = ['cl3d_showerlength','cl3d_coreshowerlength', 'cl3d_firstlayer', 'cl3d_maxlayer' ]\n",
    "data[discrete_cols]=data[discrete_cols].astype('int64')\n"
   ]
  },
  {
   "cell_type": "code",
   "execution_count": 7,
   "metadata": {},
   "outputs": [
    {
     "ename": "KeyboardInterrupt",
     "evalue": "",
     "output_type": "error",
     "traceback": [
      "\u001b[0;31m---------------------------------------------------------------------------\u001b[0m",
      "\u001b[0;31mKeyboardInterrupt\u001b[0m                         Traceback (most recent call last)",
      "\u001b[0;32m<ipython-input-7-114a0da39889>\u001b[0m in \u001b[0;36m<module>\u001b[0;34m\u001b[0m\n\u001b[1;32m     15\u001b[0m \u001b[0mX_train\u001b[0m\u001b[0;34m[\u001b[0m\u001b[0;34m'cl3d_pt'\u001b[0m\u001b[0;34m]\u001b[0m\u001b[0;34m=\u001b[0m\u001b[0my_train\u001b[0m\u001b[0;34m[\u001b[0m\u001b[0;34m'cl3d_pt'\u001b[0m\u001b[0;34m]\u001b[0m\u001b[0;34m\u001b[0m\u001b[0m\n\u001b[1;32m     16\u001b[0m \u001b[0mX_train\u001b[0m\u001b[0;34m[\u001b[0m\u001b[0;34m'cl3d_eta'\u001b[0m\u001b[0;34m]\u001b[0m\u001b[0;34m=\u001b[0m\u001b[0my_train\u001b[0m\u001b[0;34m[\u001b[0m\u001b[0;34m'cl3d_eta'\u001b[0m\u001b[0;34m]\u001b[0m\u001b[0;34m\u001b[0m\u001b[0m\n\u001b[0;32m---> 17\u001b[0;31m \u001b[0mX_train\u001b[0m\u001b[0;34m,\u001b[0m \u001b[0my_train\u001b[0m\u001b[0;34m=\u001b[0m\u001b[0mover\u001b[0m\u001b[0;34m.\u001b[0m\u001b[0mfit_resample\u001b[0m\u001b[0;34m(\u001b[0m\u001b[0mX_train\u001b[0m\u001b[0;34m,\u001b[0m\u001b[0my_train\u001b[0m\u001b[0;34m[\u001b[0m\u001b[0;34m'signal'\u001b[0m\u001b[0;34m]\u001b[0m\u001b[0;34m)\u001b[0m\u001b[0;34m\u001b[0m\u001b[0m\n\u001b[0m\u001b[1;32m     18\u001b[0m \u001b[0mX_train\u001b[0m\u001b[0;34m,\u001b[0m \u001b[0my_train\u001b[0m\u001b[0;34m=\u001b[0m\u001b[0munder\u001b[0m\u001b[0;34m.\u001b[0m\u001b[0mfit_resample\u001b[0m\u001b[0;34m(\u001b[0m\u001b[0mX_train\u001b[0m\u001b[0;34m,\u001b[0m \u001b[0my_train\u001b[0m\u001b[0;34m)\u001b[0m\u001b[0;34m\u001b[0m\u001b[0m\n\u001b[1;32m     19\u001b[0m \u001b[0my_train\u001b[0m\u001b[0;34m=\u001b[0m\u001b[0mpd\u001b[0m\u001b[0;34m.\u001b[0m\u001b[0mDataFrame\u001b[0m\u001b[0;34m(\u001b[0m\u001b[0my_train\u001b[0m\u001b[0;34m)\u001b[0m\u001b[0;34m\u001b[0m\u001b[0m\n",
      "\u001b[0;32m~/.local/lib/python3.7/site-packages/imblearn/base.py\u001b[0m in \u001b[0;36mfit_resample\u001b[0;34m(self, X, y)\u001b[0m\n\u001b[1;32m     81\u001b[0m         )\n\u001b[1;32m     82\u001b[0m \u001b[0;34m\u001b[0m\u001b[0m\n\u001b[0;32m---> 83\u001b[0;31m         \u001b[0moutput\u001b[0m \u001b[0;34m=\u001b[0m \u001b[0mself\u001b[0m\u001b[0;34m.\u001b[0m\u001b[0m_fit_resample\u001b[0m\u001b[0;34m(\u001b[0m\u001b[0mX\u001b[0m\u001b[0;34m,\u001b[0m \u001b[0my\u001b[0m\u001b[0;34m)\u001b[0m\u001b[0;34m\u001b[0m\u001b[0m\n\u001b[0m\u001b[1;32m     84\u001b[0m \u001b[0;34m\u001b[0m\u001b[0m\n\u001b[1;32m     85\u001b[0m         \u001b[0my_\u001b[0m \u001b[0;34m=\u001b[0m \u001b[0mlabel_binarize\u001b[0m\u001b[0;34m(\u001b[0m\u001b[0moutput\u001b[0m\u001b[0;34m[\u001b[0m\u001b[0;36m1\u001b[0m\u001b[0;34m]\u001b[0m\u001b[0;34m,\u001b[0m \u001b[0mnp\u001b[0m\u001b[0;34m.\u001b[0m\u001b[0munique\u001b[0m\u001b[0;34m(\u001b[0m\u001b[0my\u001b[0m\u001b[0;34m)\u001b[0m\u001b[0;34m)\u001b[0m \u001b[0;32mif\u001b[0m \u001b[0mbinarize_y\u001b[0m \u001b[0;32melse\u001b[0m \u001b[0moutput\u001b[0m\u001b[0;34m[\u001b[0m\u001b[0;36m1\u001b[0m\u001b[0;34m]\u001b[0m\u001b[0;34m\u001b[0m\u001b[0m\n",
      "\u001b[0;32m~/.local/lib/python3.7/site-packages/imblearn/over_sampling/_smote/base.py\u001b[0m in \u001b[0;36m_fit_resample\u001b[0;34m(self, X, y)\u001b[0m\n\u001b[1;32m    307\u001b[0m \u001b[0;34m\u001b[0m\u001b[0m\n\u001b[1;32m    308\u001b[0m             \u001b[0mself\u001b[0m\u001b[0;34m.\u001b[0m\u001b[0mnn_k_\u001b[0m\u001b[0;34m.\u001b[0m\u001b[0mfit\u001b[0m\u001b[0;34m(\u001b[0m\u001b[0mX_class\u001b[0m\u001b[0;34m)\u001b[0m\u001b[0;34m\u001b[0m\u001b[0m\n\u001b[0;32m--> 309\u001b[0;31m             \u001b[0mnns\u001b[0m \u001b[0;34m=\u001b[0m \u001b[0mself\u001b[0m\u001b[0;34m.\u001b[0m\u001b[0mnn_k_\u001b[0m\u001b[0;34m.\u001b[0m\u001b[0mkneighbors\u001b[0m\u001b[0;34m(\u001b[0m\u001b[0mX_class\u001b[0m\u001b[0;34m,\u001b[0m \u001b[0mreturn_distance\u001b[0m\u001b[0;34m=\u001b[0m\u001b[0;32mFalse\u001b[0m\u001b[0;34m)\u001b[0m\u001b[0;34m[\u001b[0m\u001b[0;34m:\u001b[0m\u001b[0;34m,\u001b[0m \u001b[0;36m1\u001b[0m\u001b[0;34m:\u001b[0m\u001b[0;34m]\u001b[0m\u001b[0;34m\u001b[0m\u001b[0m\n\u001b[0m\u001b[1;32m    310\u001b[0m             X_new, y_new = self._make_samples(\n\u001b[1;32m    311\u001b[0m                 \u001b[0mX_class\u001b[0m\u001b[0;34m,\u001b[0m \u001b[0my\u001b[0m\u001b[0;34m.\u001b[0m\u001b[0mdtype\u001b[0m\u001b[0;34m,\u001b[0m \u001b[0mclass_sample\u001b[0m\u001b[0;34m,\u001b[0m \u001b[0mX_class\u001b[0m\u001b[0;34m,\u001b[0m \u001b[0mnns\u001b[0m\u001b[0;34m,\u001b[0m \u001b[0mn_samples\u001b[0m\u001b[0;34m,\u001b[0m \u001b[0;36m1.0\u001b[0m\u001b[0;34m\u001b[0m\u001b[0m\n",
      "\u001b[0;32m/opt/exp_soft/llr/python/3.7.0/el7/lib/python3.7/site-packages/sklearn/neighbors/_base.py\u001b[0m in \u001b[0;36mkneighbors\u001b[0;34m(self, X, n_neighbors, return_distance)\u001b[0m\n\u001b[1;32m    706\u001b[0m                 \u001b[0mX\u001b[0m\u001b[0;34m,\u001b[0m \u001b[0mself\u001b[0m\u001b[0;34m.\u001b[0m\u001b[0m_fit_X\u001b[0m\u001b[0;34m,\u001b[0m \u001b[0mreduce_func\u001b[0m\u001b[0;34m=\u001b[0m\u001b[0mreduce_func\u001b[0m\u001b[0;34m,\u001b[0m\u001b[0;34m\u001b[0m\u001b[0m\n\u001b[1;32m    707\u001b[0m                 \u001b[0mmetric\u001b[0m\u001b[0;34m=\u001b[0m\u001b[0mself\u001b[0m\u001b[0;34m.\u001b[0m\u001b[0meffective_metric_\u001b[0m\u001b[0;34m,\u001b[0m \u001b[0mn_jobs\u001b[0m\u001b[0;34m=\u001b[0m\u001b[0mn_jobs\u001b[0m\u001b[0;34m,\u001b[0m\u001b[0;34m\u001b[0m\u001b[0m\n\u001b[0;32m--> 708\u001b[0;31m                 **kwds))\n\u001b[0m\u001b[1;32m    709\u001b[0m \u001b[0;34m\u001b[0m\u001b[0m\n\u001b[1;32m    710\u001b[0m         \u001b[0;32melif\u001b[0m \u001b[0mself\u001b[0m\u001b[0;34m.\u001b[0m\u001b[0m_fit_method\u001b[0m \u001b[0;32min\u001b[0m \u001b[0;34m[\u001b[0m\u001b[0;34m'ball_tree'\u001b[0m\u001b[0;34m,\u001b[0m \u001b[0;34m'kd_tree'\u001b[0m\u001b[0;34m]\u001b[0m\u001b[0;34m:\u001b[0m\u001b[0;34m\u001b[0m\u001b[0m\n",
      "\u001b[0;32m/opt/exp_soft/llr/python/3.7.0/el7/lib/python3.7/site-packages/sklearn/metrics/pairwise.py\u001b[0m in \u001b[0;36mpairwise_distances_chunked\u001b[0;34m(X, Y, reduce_func, metric, n_jobs, working_memory, **kwds)\u001b[0m\n\u001b[1;32m   1622\u001b[0m             \u001b[0mX_chunk\u001b[0m \u001b[0;34m=\u001b[0m \u001b[0mX\u001b[0m\u001b[0;34m[\u001b[0m\u001b[0msl\u001b[0m\u001b[0;34m]\u001b[0m\u001b[0;34m\u001b[0m\u001b[0m\n\u001b[1;32m   1623\u001b[0m         D_chunk = pairwise_distances(X_chunk, Y, metric=metric,\n\u001b[0;32m-> 1624\u001b[0;31m                                      n_jobs=n_jobs, **kwds)\n\u001b[0m\u001b[1;32m   1625\u001b[0m         if ((X is Y or Y is None)\n\u001b[1;32m   1626\u001b[0m                 \u001b[0;32mand\u001b[0m \u001b[0mPAIRWISE_DISTANCE_FUNCTIONS\u001b[0m\u001b[0;34m.\u001b[0m\u001b[0mget\u001b[0m\u001b[0;34m(\u001b[0m\u001b[0mmetric\u001b[0m\u001b[0;34m,\u001b[0m \u001b[0;32mNone\u001b[0m\u001b[0;34m)\u001b[0m\u001b[0;34m\u001b[0m\u001b[0m\n",
      "\u001b[0;32m/opt/exp_soft/llr/python/3.7.0/el7/lib/python3.7/site-packages/sklearn/utils/validation.py\u001b[0m in \u001b[0;36minner_f\u001b[0;34m(*args, **kwargs)\u001b[0m\n\u001b[1;32m     61\u001b[0m             \u001b[0mextra_args\u001b[0m \u001b[0;34m=\u001b[0m \u001b[0mlen\u001b[0m\u001b[0;34m(\u001b[0m\u001b[0margs\u001b[0m\u001b[0;34m)\u001b[0m \u001b[0;34m-\u001b[0m \u001b[0mlen\u001b[0m\u001b[0;34m(\u001b[0m\u001b[0mall_args\u001b[0m\u001b[0;34m)\u001b[0m\u001b[0;34m\u001b[0m\u001b[0m\n\u001b[1;32m     62\u001b[0m             \u001b[0;32mif\u001b[0m \u001b[0mextra_args\u001b[0m \u001b[0;34m<=\u001b[0m \u001b[0;36m0\u001b[0m\u001b[0;34m:\u001b[0m\u001b[0;34m\u001b[0m\u001b[0m\n\u001b[0;32m---> 63\u001b[0;31m                 \u001b[0;32mreturn\u001b[0m \u001b[0mf\u001b[0m\u001b[0;34m(\u001b[0m\u001b[0;34m*\u001b[0m\u001b[0margs\u001b[0m\u001b[0;34m,\u001b[0m \u001b[0;34m**\u001b[0m\u001b[0mkwargs\u001b[0m\u001b[0;34m)\u001b[0m\u001b[0;34m\u001b[0m\u001b[0m\n\u001b[0m\u001b[1;32m     64\u001b[0m \u001b[0;34m\u001b[0m\u001b[0m\n\u001b[1;32m     65\u001b[0m             \u001b[0;31m# extra_args > 0\u001b[0m\u001b[0;34m\u001b[0m\u001b[0;34m\u001b[0m\u001b[0m\n",
      "\u001b[0;32m/opt/exp_soft/llr/python/3.7.0/el7/lib/python3.7/site-packages/sklearn/metrics/pairwise.py\u001b[0m in \u001b[0;36mpairwise_distances\u001b[0;34m(X, Y, metric, n_jobs, force_all_finite, **kwds)\u001b[0m\n\u001b[1;32m   1788\u001b[0m         \u001b[0mfunc\u001b[0m \u001b[0;34m=\u001b[0m \u001b[0mpartial\u001b[0m\u001b[0;34m(\u001b[0m\u001b[0mdistance\u001b[0m\u001b[0;34m.\u001b[0m\u001b[0mcdist\u001b[0m\u001b[0;34m,\u001b[0m \u001b[0mmetric\u001b[0m\u001b[0;34m=\u001b[0m\u001b[0mmetric\u001b[0m\u001b[0;34m,\u001b[0m \u001b[0;34m**\u001b[0m\u001b[0mkwds\u001b[0m\u001b[0;34m)\u001b[0m\u001b[0;34m\u001b[0m\u001b[0m\n\u001b[1;32m   1789\u001b[0m \u001b[0;34m\u001b[0m\u001b[0m\n\u001b[0;32m-> 1790\u001b[0;31m     \u001b[0;32mreturn\u001b[0m \u001b[0m_parallel_pairwise\u001b[0m\u001b[0;34m(\u001b[0m\u001b[0mX\u001b[0m\u001b[0;34m,\u001b[0m \u001b[0mY\u001b[0m\u001b[0;34m,\u001b[0m \u001b[0mfunc\u001b[0m\u001b[0;34m,\u001b[0m \u001b[0mn_jobs\u001b[0m\u001b[0;34m,\u001b[0m \u001b[0;34m**\u001b[0m\u001b[0mkwds\u001b[0m\u001b[0;34m)\u001b[0m\u001b[0;34m\u001b[0m\u001b[0m\n\u001b[0m\u001b[1;32m   1791\u001b[0m \u001b[0;34m\u001b[0m\u001b[0m\n\u001b[1;32m   1792\u001b[0m \u001b[0;34m\u001b[0m\u001b[0m\n",
      "\u001b[0;32m/opt/exp_soft/llr/python/3.7.0/el7/lib/python3.7/site-packages/sklearn/metrics/pairwise.py\u001b[0m in \u001b[0;36m_parallel_pairwise\u001b[0;34m(X, Y, func, n_jobs, **kwds)\u001b[0m\n\u001b[1;32m   1357\u001b[0m \u001b[0;34m\u001b[0m\u001b[0m\n\u001b[1;32m   1358\u001b[0m     \u001b[0;32mif\u001b[0m \u001b[0meffective_n_jobs\u001b[0m\u001b[0;34m(\u001b[0m\u001b[0mn_jobs\u001b[0m\u001b[0;34m)\u001b[0m \u001b[0;34m==\u001b[0m \u001b[0;36m1\u001b[0m\u001b[0;34m:\u001b[0m\u001b[0;34m\u001b[0m\u001b[0m\n\u001b[0;32m-> 1359\u001b[0;31m         \u001b[0;32mreturn\u001b[0m \u001b[0mfunc\u001b[0m\u001b[0;34m(\u001b[0m\u001b[0mX\u001b[0m\u001b[0;34m,\u001b[0m \u001b[0mY\u001b[0m\u001b[0;34m,\u001b[0m \u001b[0;34m**\u001b[0m\u001b[0mkwds\u001b[0m\u001b[0;34m)\u001b[0m\u001b[0;34m\u001b[0m\u001b[0m\n\u001b[0m\u001b[1;32m   1360\u001b[0m \u001b[0;34m\u001b[0m\u001b[0m\n\u001b[1;32m   1361\u001b[0m     \u001b[0;31m# enforce a threading backend to prevent data communication overhead\u001b[0m\u001b[0;34m\u001b[0m\u001b[0;34m\u001b[0m\u001b[0m\n",
      "\u001b[0;32m/opt/exp_soft/llr/python/3.7.0/el7/lib/python3.7/site-packages/sklearn/utils/validation.py\u001b[0m in \u001b[0;36minner_f\u001b[0;34m(*args, **kwargs)\u001b[0m\n\u001b[1;32m     61\u001b[0m             \u001b[0mextra_args\u001b[0m \u001b[0;34m=\u001b[0m \u001b[0mlen\u001b[0m\u001b[0;34m(\u001b[0m\u001b[0margs\u001b[0m\u001b[0;34m)\u001b[0m \u001b[0;34m-\u001b[0m \u001b[0mlen\u001b[0m\u001b[0;34m(\u001b[0m\u001b[0mall_args\u001b[0m\u001b[0;34m)\u001b[0m\u001b[0;34m\u001b[0m\u001b[0m\n\u001b[1;32m     62\u001b[0m             \u001b[0;32mif\u001b[0m \u001b[0mextra_args\u001b[0m \u001b[0;34m<=\u001b[0m \u001b[0;36m0\u001b[0m\u001b[0;34m:\u001b[0m\u001b[0;34m\u001b[0m\u001b[0m\n\u001b[0;32m---> 63\u001b[0;31m                 \u001b[0;32mreturn\u001b[0m \u001b[0mf\u001b[0m\u001b[0;34m(\u001b[0m\u001b[0;34m*\u001b[0m\u001b[0margs\u001b[0m\u001b[0;34m,\u001b[0m \u001b[0;34m**\u001b[0m\u001b[0mkwargs\u001b[0m\u001b[0;34m)\u001b[0m\u001b[0;34m\u001b[0m\u001b[0m\n\u001b[0m\u001b[1;32m     64\u001b[0m \u001b[0;34m\u001b[0m\u001b[0m\n\u001b[1;32m     65\u001b[0m             \u001b[0;31m# extra_args > 0\u001b[0m\u001b[0;34m\u001b[0m\u001b[0;34m\u001b[0m\u001b[0m\n",
      "\u001b[0;32m/opt/exp_soft/llr/python/3.7.0/el7/lib/python3.7/site-packages/sklearn/metrics/pairwise.py\u001b[0m in \u001b[0;36meuclidean_distances\u001b[0;34m(X, Y, Y_norm_squared, squared, X_norm_squared)\u001b[0m\n\u001b[1;32m    311\u001b[0m     \u001b[0;32melse\u001b[0m\u001b[0;34m:\u001b[0m\u001b[0;34m\u001b[0m\u001b[0m\n\u001b[1;32m    312\u001b[0m         \u001b[0;31m# if dtype is already float64, no need to chunk and upcast\u001b[0m\u001b[0;34m\u001b[0m\u001b[0;34m\u001b[0m\u001b[0m\n\u001b[0;32m--> 313\u001b[0;31m         \u001b[0mdistances\u001b[0m \u001b[0;34m=\u001b[0m \u001b[0;34m-\u001b[0m \u001b[0;36m2\u001b[0m \u001b[0;34m*\u001b[0m \u001b[0msafe_sparse_dot\u001b[0m\u001b[0;34m(\u001b[0m\u001b[0mX\u001b[0m\u001b[0;34m,\u001b[0m \u001b[0mY\u001b[0m\u001b[0;34m.\u001b[0m\u001b[0mT\u001b[0m\u001b[0;34m,\u001b[0m \u001b[0mdense_output\u001b[0m\u001b[0;34m=\u001b[0m\u001b[0;32mTrue\u001b[0m\u001b[0;34m)\u001b[0m\u001b[0;34m\u001b[0m\u001b[0m\n\u001b[0m\u001b[1;32m    314\u001b[0m         \u001b[0mdistances\u001b[0m \u001b[0;34m+=\u001b[0m \u001b[0mXX\u001b[0m\u001b[0;34m\u001b[0m\u001b[0m\n\u001b[1;32m    315\u001b[0m         \u001b[0mdistances\u001b[0m \u001b[0;34m+=\u001b[0m \u001b[0mYY\u001b[0m\u001b[0;34m\u001b[0m\u001b[0m\n",
      "\u001b[0;31mKeyboardInterrupt\u001b[0m: "
     ]
    }
   ],
   "source": [
    "#preprocessing and balancing\n",
    "X_train, X_test, y_train, y_test = train_test_split(data[features], \n",
    "                                                    data[['signal','weight','cl3d_eta','cl3d_pt', 'genpart_pt', 'genpart_exeta', 'sample']],\n",
    "                                                    test_size=0.2,random_state=42)\n",
    "train_untouched=xgb.DMatrix(data=X_train,label=y_train['signal'],feature_names=features)\n",
    "y_train_untouched=y_train\n",
    "X_train_untouched=X_train\n",
    "over_ratio = 0.4 #0.2 \n",
    "under_ratio = 0.5\n",
    "if bkg == 'QCD':\n",
    "    over_ratio = 0.8\n",
    "    under_ratio = 1\n",
    "over=imblearn.over_sampling.SMOTE(sampling_strategy=over_ratio, random_state=42)\n",
    "under= imblearn.under_sampling.RandomUnderSampler(sampling_strategy=under_ratio, random_state=42)\n",
    "X_train['cl3d_pt']=y_train['cl3d_pt']\n",
    "X_train['cl3d_eta']=y_train['cl3d_eta']\n",
    "X_train, y_train=over.fit_resample(X_train,y_train['signal'])\n",
    "X_train, y_train=under.fit_resample(X_train, y_train)\n",
    "y_train=pd.DataFrame(y_train)\n",
    "y_train['weight']=1\n",
    "y_train['cl3d_pt']=X_train['cl3d_pt']\n",
    "y_train['cl3d_eta']=X_train['cl3d_eta']\n",
    "X_train.drop('cl3d_pt', axis=1, inplace=True)\n",
    "X_train.drop('cl3d_eta', axis=1, inplace=True)\n",
    "\n",
    "\n",
    "#dump files for easy restart\n",
    "datadir='/grid_mnt/vol_home/llr/cms/hakimi/HGCAL/moo/data/'\n",
    "if not os.path.exists(datadir):\n",
    "        os.makedirs(datadir)\n",
    "X_test.to_csv(datadir+'X_test_{}.csv'.format(bkg))\n",
    "y_test.to_csv(datadir+'y_test_{}.csv'.format(bkg))\n",
    "X_train.to_csv(datadir+'X_train_{}.csv'.format(bkg))\n",
    "y_train.to_csv(datadir+'y_train_{}.csv'.format(bkg))"
   ]
  },
  {
   "cell_type": "code",
   "execution_count": 79,
   "metadata": {},
   "outputs": [
    {
     "name": "stdout",
     "output_type": "stream",
     "text": [
      "nvar 21\n",
      "lower bounds [0, 0, 0, 0, 0, 0, 0, 0, 0, 0, 0, 0, 0, 0, 0, 0, 0, 0, 2, 2, 1]\n",
      "20\n",
      "49\n",
      "33\n",
      "1955\n",
      "1955\n",
      "47278\n",
      "upper bounds [16, 5, 16, 16, 16, 16, 16, 6, 6, 16, 16, 16, 11, 16, 16, 16, 11, 15, 500, 5, 5]\n"
     ]
    }
   ],
   "source": [
    "#MOO problem definition\n",
    "\n",
    "#MOO inputs: nvar [0-16], max boost rounds[10-500], max_depth[2-5], eta [1-5] (negative power of 10)\n",
    "\n",
    "#number of optimization parameters\n",
    "nvar = len (data[features].columns) + 3 #1 for each feature + max boost rounds, max depth and learning rate\n",
    "print('nvar',nvar)\n",
    "\n",
    "#number of objetives\n",
    "nobj = 3 # efficiency and number of bits used + model complexity\n",
    "\n",
    "#number of constraints\n",
    "nconstr = 0\n",
    "\n",
    "bitmin= 0 #0 if we want to remove features\n",
    "\n",
    "# variables lower bound xl\n",
    "#features number of bits\n",
    "xl=[bitmin for feat in data[features].columns]\n",
    "#add minimum for bdt params\n",
    "xl.extend([10,2,1])\n",
    "print('lower bounds',xl)\n",
    "\n",
    "\n",
    "bitmax = 16\n",
    "#upper bound\n",
    "#features number of bits\n",
    "xu =[maxbits(data[feat], bitmax) for feat in data[features].columns]\n",
    "#add bdt params\n",
    "xu.extend([500,5,5])\n",
    "print ('upper bounds',xu)\n",
    "\n",
    "\n",
    "#BDT params\n",
    "param = {\n",
    "        'nthread' : 8,\n",
    "        # Parameters that we are going to tune.\n",
    "        'max_depth':2,\n",
    "        'eta':0.1,\n",
    "        'subsample': 0.8,\n",
    "        'colsample_bytree': 0.8,\n",
    "        # Other parameters\n",
    "        'objective':'binary:logistic',\n",
    "        'eval_metric': 'auc', \n",
    "        'alpha':0.01,\n",
    "        'lambda':10,\n",
    "    }"
   ]
  },
  {
   "cell_type": "code",
   "execution_count": 81,
   "metadata": {},
   "outputs": [],
   "source": [
    "# quantization\n",
    "def quantize(feat, nbits, method, fmin, fmax): #feat is the feature to quantize, nbist the number of bits, method: 'uniform' or 'percentile'\n",
    "    nbins= 2**nbits\n",
    "    if feat.dtype == 'float64':\n",
    "        method = method\n",
    "    elif feat.dtype == 'int64':\n",
    "        method = 'uniform'\n",
    "    if method == 'uniform':\n",
    "        bins=np.linspace(fmin, fmax, nbins)\n",
    "    elif method == 'percentile':\n",
    "        bins=[np.percentile(feat, n) for n in np.linspace(0,100,nbins+1)]\n",
    "    else :\n",
    "        print('Error: Invalid method')\n",
    "        return\n",
    "    \n",
    "    \n",
    "    #print(feat.dtype,nbits, method)\n",
    "    return np.digitize(feat, bins, right=True)\n",
    "\n",
    "\n",
    "def quantize_ebm0(x,nb):\n",
    "    qbm=[]\n",
    "    nlay=14\n",
    "    fuse_lay=int(np.ceil(nlay/nb))\n",
    "    print(\" nb\", nb)\n",
    "    bm = int(x.ebm0)\n",
    "    print('bm =', bm)\n",
    "    bm = list(bin(bm))[2:]\n",
    "    print('bits =', bm)\n",
    "    while len(bm) < nlay:\n",
    "        bm.insert(0,0)\n",
    "    print('bits(nlay)=', bm)\n",
    "    for j in range(0,14,fuse_lay):\n",
    "        val=0\n",
    "        #print(\"j\",j)\n",
    "        for k in range(fuse_lay):\n",
    "            #print(\"k\",k)\n",
    "            if j+k <=13:\n",
    "                val +=int(bm[j+k])\n",
    "        #print(\"val\", val)\n",
    "        qbm.append(int(val>0))\n",
    "    print(qbm)\n",
    "    return qbm\n",
    "\n",
    "\n",
    "def quantize_ebm1(x,nb):\n",
    "    qbm=[]\n",
    "    nlay=14\n",
    "    fuse_lay=int(np.ceil(nlay/nb))\n",
    "    print(\" nb\", nb)\n",
    "    bm = int(x.ebm1)\n",
    "    print('bm =', bm)\n",
    "    bm = list(bin(bm))[2:]\n",
    "    print('bits =', bm)\n",
    "    while len(bm) < nlay:\n",
    "        bm.insert(0,0)\n",
    "    print('bits(nlay)=', bm)\n",
    "    for j in range(0,14,fuse_lay):\n",
    "        val=0\n",
    "        #print(\"j\",j)\n",
    "        for k in range(fuse_lay):\n",
    "            #print(\"k\",k)\n",
    "            if j+k <=13:\n",
    "                val +=int(bm[j+k])\n",
    "        #print(\"val\", val)\n",
    "        qbm.append(int(val>0))\n",
    "    print(qbm)\n",
    "    return qbm\n",
    "def quantize_hbm(x,nb):\n",
    "    qbm=[]\n",
    "    nlay=21\n",
    "    fuse_lay=int(np.ceil(nlay/nb))\n",
    "    print(\" nb\", nb)\n",
    "    bm = int(x.hbm)\n",
    "    print('bm =', bm)\n",
    "    bm = list(bin(bm))[2:]\n",
    "    print('bits =', bm)\n",
    "    while len(bm) < nlay:\n",
    "        bm.insert(0,0)\n",
    "    print('bits(nlay)=', bm)\n",
    "    for j in range(0,nlay,fuse_lay):\n",
    "        val=0\n",
    "        #print(\"j\",j)\n",
    "        for k in range(fuse_lay):\n",
    "            #print(\"k\",k)\n",
    "            if j+k <=13:\n",
    "                val +=int(bm[j+k])\n",
    "        #print(\"val\", val)\n",
    "        qbm.append(int(val>0))\n",
    "    print(qbm)\n",
    "    return qbm\n",
    "def quantize_reverse_ebm0(x,nb):\n",
    "    qbm=[]\n",
    "    nlay=14\n",
    "    fuse_lay=int(np.ceil(nlay/nb))\n",
    "    print(\" nb\", nb)\n",
    "    bm = int(x.reverese_ebm0)\n",
    "    print('bm =', bm)\n",
    "    bm = list(bin(bm))[2:]\n",
    "    print('bits =', bm)\n",
    "    while len(bm) < nlay:\n",
    "        bm.insert(0,0)\n",
    "    print('bits(nlay)=', bm)\n",
    "    for j in range(0,14,fuse_lay):\n",
    "        val=0\n",
    "        #print(\"j\",j)\n",
    "        for k in range(fuse_lay):\n",
    "            #print(\"k\",k)\n",
    "            if j+k <=13:\n",
    "                val +=int(bm[j+k])\n",
    "        #print(\"val\", val)\n",
    "        qbm.append(int(val>0))\n",
    "    print(qbm)\n",
    "    return qbm\n",
    "def quantize_reverse_ebm1(x,nb):\n",
    "    qbm=[]\n",
    "    nlay=14\n",
    "    fuse_lay=int(np.ceil(nlay/nb))\n",
    "    print(\" nb\", nb)\n",
    "    bm =int(x.reverese_ebm1)\n",
    "    print('bm =', bm)\n",
    "    bm = list(bin(bm))[2:]\n",
    "    print('bits =', bm)\n",
    "    while len(bm) < nlay:\n",
    "        bm.insert(0,0)\n",
    "    print('bits(nlay)=', bm)\n",
    "    for j in range(0,14,fuse_lay):\n",
    "        val=0\n",
    "        #print(\"j\",j)\n",
    "        for k in range(fuse_lay):\n",
    "            #print(\"k\",k)\n",
    "            if j+k <=13:\n",
    "                val +=int(bm[j+k])\n",
    "        #print(\"val\", val)\n",
    "        qbm.append(int(val>0))\n",
    "    print(qbm)\n",
    "    return qbm\n",
    "def quantize_reverese_hbm(x,nb):\n",
    "    qbm=[]\n",
    "    nlay=21\n",
    "    fuse_lay=int(np.ceil(nlay/nb))\n",
    "    print(\" nb\", nb)\n",
    "    bm = int(x.reverse_hbm)\n",
    "    print('bm =', bm)\n",
    "    bm = list(bin(bm))[2:]\n",
    "    print('bits =', bm)\n",
    "    while len(bm) < nlay:\n",
    "        bm.insert(0,0)\n",
    "    print('bits(nlay)=', bm)\n",
    "    for j in range(0,nlay,fuse_lay):\n",
    "        val=0\n",
    "        #print(\"j\",j)\n",
    "        for k in range(fuse_lay):\n",
    "            #print(\"k\",k)\n",
    "            if j+k <=13:\n",
    "                val +=int(bm[j+k])\n",
    "        #print(\"val\", val)\n",
    "        qbm.append(int(val>0))\n",
    "    print(qbm)\n",
    "    return qbm"
   ]
  },
  {
   "cell_type": "code",
   "execution_count": 86,
   "metadata": {},
   "outputs": [],
   "source": [
    "#training function\n",
    "def train_quantized(x):\n",
    "    #print('Parameters = {}'.format(x))\n",
    "    nfeat=len (data[features].columns)\n",
    "    param['eta']= float(10)**((-1)*x[nfeat+2])\n",
    "    param['max_depth']=x[nfeat+1]\n",
    "\n",
    "    num_boost_round=x[nfeat]\n",
    "    #print('test : boost rounds {} max_depth {} eta {}'.format(num_boost_round, param['max_depth'], param['eta']))\n",
    "    \n",
    "    qtrain=pd.DataFrame()\n",
    "    qtest=pd.DataFrame()\n",
    "    feat_kept=features.copy()\n",
    "    tot_bits= 0\n",
    "    for i,feat in enumerate(X_train.columns):\n",
    "        #print(\"feature :\", feat, \"quantized on {} bits\".format(x[i]))\n",
    "        if x[i]==0: #drop feat\n",
    "            #print(\"dropping {} from {}\".format(feat, feat_kept))\n",
    "            feat_kept.remove(feat)\n",
    "        elif 'bm' not in 'feat':\n",
    "            fmin, fmax= X_train[feat].min(), X_train[feat].max(), \n",
    "            qtrain[feat]=quantize(X_train[feat], x[i], 'uniform', fmin, fmax)\n",
    "            qtest[feat]=quantize(X_test[feat], x[i], 'uniform', fmin, fmax)\n",
    "            tot_bits += x[i]\n",
    "        elif feat == 'ebm0':\n",
    "            qtrain[feat]=X_train.apply(quantize_ebm0, nb = x[i], axis=1)\n",
    "            qtest[feat]=X_test.apply(quantize_ebm0, nb = x[i], axis=1)\n",
    "            nlay=14\n",
    "            bits=nlay/int(np.ceil(nlay/x[i]))\n",
    "            if bits > 0:\n",
    "                tot_bits += bits\n",
    "        elif feat == 'ebm1':\n",
    "            qtrain[feat]=X_train.apply(quantize_ebm1, nb = x[i], axis=1)\n",
    "            qtest[feat]=X_test.apply(quantize_ebm1, nb = x[i], axis=1)\n",
    "            nlay=14\n",
    "            bits=nlay/int(np.ceil(nlay/x[i]))\n",
    "            if bits > 0:\n",
    "                tot_bits += bits\n",
    "        elif feat == 'hbm':\n",
    "            qtrain[feat]=X_train.apply(quantize_hbm, nb = x[i], axis=1)\n",
    "            qtest[feat]=X_test.apply(quantize_hbm, nb = x[i], axis=1)\n",
    "            nlay=21\n",
    "            bits=nlay/int(np.ceil(nlay/x[i]))\n",
    "            tot_bits += nlay/int(np.ceil(nlay/x[i]))\n",
    "        elif feat == 'reverse_ebm0':\n",
    "            qtrain[feat]=X_train.apply(quantize_reverse_ebm0, nb = x[i], axis=1)\n",
    "            qtest[feat]=X_test.apply(quantize_reverse_ebm0, nb = x[i], axis=1)\n",
    "            nlay=14\n",
    "            bits=nlay/int(np.ceil(nlay/x[i]))\n",
    "            if bits > 0:\n",
    "                tot_bits += bits\n",
    "        elif feat == 'reverse_ebm1':\n",
    "            qtrain[feat]=X_train.apply(quantize_reverse_ebm1, nb = x[i], axis=1)\n",
    "            qtest[feat]=X_test.apply(quantize_reverse_ebm1, nb = x[i], axis=1)\n",
    "            nlay=14\n",
    "            bits=nlay/int(np.ceil(nlay/x[i]))\n",
    "            if bits > 0:\n",
    "                tot_bits += bits\n",
    "        elif feat == 'reverse_hbm':\n",
    "            qtrain[feat]=X_train.apply(quantize_reverse_hbm, nb = x[i], axis=1)\n",
    "            qtest[feat]=X_test.apply(quantize_reverse_hbm, nb = x[i], axis=1)\n",
    "            nlay=21\n",
    "            bits=nlay/int(np.ceil(nlay/x[i]))\n",
    "            if bits > 0:\n",
    "                tot_bits += bits\n",
    "    train= xgb.DMatrix(data=qtrain,label=y_train['signal'], feature_names=feat_kept, weight=y_train['weight'])\n",
    "    test= xgb.DMatrix(data=qtest,label=y_test['signal'],feature_names=feat_kept)\n",
    "    #use gpu if available\n",
    "    gpu=tf.test.is_gpu_available(\n",
    "        cuda_only=False, min_cuda_compute_capability=None\n",
    "    )\n",
    "    if gpu==True:\n",
    "        param['tree_method']='gpu_hist'\n",
    "\n",
    "    #Now train and fit best parameters BDT\n",
    "    eval_result = {}\n",
    "    BDT = xgb.train(\n",
    "        param,\n",
    "        train,\n",
    "        num_boost_round=num_boost_round,\n",
    "        #feval = SoverB,\n",
    "        evals=[(train, 'Train'),(test, \"Test\")],\n",
    "        evals_result = eval_result,\n",
    "        verbose_eval=None,\n",
    "    )\n",
    "    pred= BDT.predict(test)\n",
    "\n",
    "\n",
    "    fpr, tpr, threshold = roc_curve(y_test['signal'],pred, pos_label=1)\n",
    "    fpr.sort()\n",
    "    tpr.sort()\n",
    "    roc_test=pd.DataFrame({'tpr':tpr,'fpr':fpr, 'threshold':threshold})\n",
    "\n",
    "    #return auc at > cut sig eff\n",
    "    cut=0.8\n",
    "\n",
    "    roc_thr=roc_test[roc_test['tpr']>0.8]\n",
    "    if len(roc_thr)>3:\n",
    "        f1= (-1)*auc(roc_thr['fpr'], roc_thr['tpr']) # negative to be a minimization\n",
    "    else : \n",
    "        f1 = 0\n",
    "    #f2 = total number of bits used\n",
    "    f2=tot_bits\n",
    "    \n",
    "    #f3: compute estimation of bdt ressource usage based on LUT_estimation table\n",
    "    f3=0\n",
    "    for i in BDT.trees_to_dataframe()[BDT.trees_to_dataframe()['Feature']!='Leaf'].iterrows():\n",
    "        depth=min(5,param['max_depth'])\n",
    "        feat=i[1]['Feature']\n",
    "        feat_prec= x[X_train.columns.get_loc(feat)]\n",
    "        if feat_prec < 3: feat_prec =3 #estimation is not reliable under 3 bits precision, use conservative estimate value\n",
    "        #print('feature : {}, prec : {} , depth: {}'.format(feat, feat_prec,param['max_depth'] ))\n",
    "        price=proxy.query('precision == {} & depth =={} '.format(feat_prec, depth))['coef'].values[0] \n",
    "        f3 += price\n",
    "    \n",
    "    f3 = round(f3)\n",
    "    #print('bkg efficiency = {}, using {} bits and {} LUT'.format(f1, f2, f3))\n",
    "    return ([f1, f2, f3], pred, BDT, qtrain, feat_kept)"
   ]
  },
  {
   "cell_type": "code",
   "execution_count": 88,
   "metadata": {},
   "outputs": [],
   "source": [
    "#plot shap values of model\n",
    "def plot_shap(BDT, data, feats):\n",
    "    import shap\n",
    "    # select a set of background examples to take an expectation over\n",
    "    #background = X_train.to_numpy()[np.random.choice(X_train.shape[0], 1000, replace=False)]\n",
    "\n",
    "    # explain predictions of the model on four images\n",
    "    explainer = shap.Explainer(BDT)\n",
    "    a= qtrain[feat_kept][(y_train['signal']==1).values].sample(2000)\n",
    "    b = qtrain[feat_kept][(y_train['signal']==0).values].sample(2000)\n",
    "    shap_df= pd.concat([a,b])\n",
    "\n",
    "    #shap_values = explainer.shap_values(X_test.to_numpy()[np.random.choice(X_test.shape[0], 1000, replace=False)])\n",
    "    shap_values = explainer.shap_values(shap_df.to_numpy())\n",
    "    col_names=[val for val in shap_df.columns if val != 'abseta']\n",
    "    col_names.append('abseta')\n",
    "\n",
    "    plt.figure(figsize=(10,5))\n",
    "    #shap.summary_plot(shap_values, X_test.to_numpy()[np.random.choice(X_test.shape[0], 1000, replace=False)], \n",
    "    #                  features,max_display=99, show=False, alpha = 0.7 )\n",
    "\n",
    "    shap.summary_plot(shap_values, shap_df.to_numpy() ,shap_df.columns,max_display=99, show=False, alpha = 0.8 )\n",
    "    plt.xlabel('Shap value', fontsize=16)"
   ]
  },
  {
   "cell_type": "markdown",
   "metadata": {},
   "source": [
    "# Run MOO"
   ]
  },
  {
   "cell_type": "code",
   "execution_count": 89,
   "metadata": {},
   "outputs": [],
   "source": [
    "import numpy as np\n",
    "\n",
    "from pymoo.factory import get_algorithm, get_crossover, get_mutation, get_sampling, get_selection\n",
    "from pymoo.optimize import minimize\n",
    "from pymoo.model.problem import Problem\n",
    "\n",
    "\n",
    "class MyProblem(Problem):\n",
    "\n",
    "    def __init__(self):\n",
    "        super().__init__(n_var=nvar, #number of variables in the problem (ie hyperparameters)\n",
    "                         n_obj=nobj, #number of objectives\n",
    "                         n_constr=nconstr, #number of constraints\n",
    "                         xl=xl, #lower bound for variables\n",
    "                         xu=xu, #higher bound for variables\n",
    "                         type_var=int, \n",
    "                         elementwise_evaluation=True) #Only one solution is evaluated at a time, \n",
    "                                                      #vectorized or functional evaluation supported \n",
    "\n",
    "    def _evaluate(self, x, out, *args, **kwargs):        \n",
    "        out[\"F\"] = train_quantized(x)[0] #black box function to evaluate, should return n_obj values\n",
    "problem=MyProblem()"
   ]
  },
  {
   "cell_type": "code",
   "execution_count": 90,
   "metadata": {},
   "outputs": [],
   "source": [
    "#initialization\n",
    "\n",
    "\n",
    "\n",
    "\n",
    "def initial_pop(pop_size=16, rand= True):\n",
    "    #initializatio\n",
    "    #x[0-15] = nbits, x[16]=boost rounds, x[17]=max depth, x[18]=eta\n",
    "    nfeat=len (data[features].columns)\n",
    "    max_val=16\n",
    "    pop_size=pop_size\n",
    "    sampling=[]\n",
    "    #hyperdiag\n",
    "    for i in range(1,max_val+1):\n",
    "        current=[i for j in range(nfeat)]\n",
    "        #BDT params: min + i*range/12\n",
    "        current.append(round(2+(i-1)*(498/(max_val-1)))) # boost rounds\n",
    "        current.append(round(2+(i-1)*(3/(max_val-1)))) # depth\n",
    "        current.append(round(1+(i-1)*(4/(max_val-1)))) # eta\n",
    "        sampling.append(current)\n",
    "    #add random pop until pop_size is reached\n",
    "    if rand:\n",
    "        for i in range(pop_size-max_val):\n",
    "            current=[random.randint(0,max_val) for j in range(nfeat)]\n",
    "            current.append(random.randint(2,500))\n",
    "            current.append(random.randint(2,5))\n",
    "            current.append(random.randint(1,5))\n",
    "            sampling.append(current)\n",
    "        sampling=np.array(sampling)\n",
    "    return(sampling)"
   ]
  },
  {
   "cell_type": "code",
   "execution_count": 139,
   "metadata": {
    "scrolled": true
   },
   "outputs": [
    {
     "name": "stdout",
     "output_type": "stream",
     "text": [
      "=======================================================\n",
      "n_gen |  n_eval |  n_nds  |     eps      |  indicator  \n",
      "=======================================================\n",
      "    1 |     100 |      18 |            - |            -\n"
     ]
    },
    {
     "name": "stderr",
     "output_type": "stream",
     "text": [
      "/home/llr/cms/hakimi/.local/lib/python3.7/site-packages/pymoo/operators/crossover/simulated_binary_crossover.py:40: RuntimeWarning: divide by zero encountered in power\n",
      "  alpha = 2.0 - np.power(beta, -(self.eta + 1.0))\n",
      "/home/llr/cms/hakimi/.local/lib/python3.7/site-packages/pymoo/operators/crossover/simulated_binary_crossover.py:45: RuntimeWarning: invalid value encountered in power\n",
      "  betaq[mask] = np.power((rand * alpha), (1.0 / (self.eta + 1.0)))[mask]\n"
     ]
    },
    {
     "name": "stdout",
     "output_type": "stream",
     "text": [
      "    2 |     200 |      23 |  0.103174603 |        nadir\n"
     ]
    },
    {
     "name": "stderr",
     "output_type": "stream",
     "text": [
      "/home/llr/cms/hakimi/.local/lib/python3.7/site-packages/pymoo/operators/crossover/simulated_binary_crossover.py:40: RuntimeWarning: divide by zero encountered in power\n",
      "  alpha = 2.0 - np.power(beta, -(self.eta + 1.0))\n",
      "/home/llr/cms/hakimi/.local/lib/python3.7/site-packages/pymoo/operators/crossover/simulated_binary_crossover.py:45: RuntimeWarning: invalid value encountered in power\n",
      "  betaq[mask] = np.power((rand * alpha), (1.0 / (self.eta + 1.0)))[mask]\n"
     ]
    },
    {
     "name": "stdout",
     "output_type": "stream",
     "text": [
      "    3 |     300 |      35 |  0.089088454 |        nadir\n"
     ]
    },
    {
     "name": "stderr",
     "output_type": "stream",
     "text": [
      "/home/llr/cms/hakimi/.local/lib/python3.7/site-packages/pymoo/operators/crossover/simulated_binary_crossover.py:40: RuntimeWarning: divide by zero encountered in power\n",
      "  alpha = 2.0 - np.power(beta, -(self.eta + 1.0))\n",
      "/home/llr/cms/hakimi/.local/lib/python3.7/site-packages/pymoo/operators/crossover/simulated_binary_crossover.py:45: RuntimeWarning: invalid value encountered in power\n",
      "  betaq[mask] = np.power((rand * alpha), (1.0 / (self.eta + 1.0)))[mask]\n"
     ]
    },
    {
     "name": "stdout",
     "output_type": "stream",
     "text": [
      "    4 |     400 |      44 |  0.066666667 |        nadir\n"
     ]
    },
    {
     "name": "stderr",
     "output_type": "stream",
     "text": [
      "/home/llr/cms/hakimi/.local/lib/python3.7/site-packages/pymoo/operators/crossover/simulated_binary_crossover.py:40: RuntimeWarning: divide by zero encountered in power\n",
      "  alpha = 2.0 - np.power(beta, -(self.eta + 1.0))\n",
      "/home/llr/cms/hakimi/.local/lib/python3.7/site-packages/pymoo/operators/crossover/simulated_binary_crossover.py:45: RuntimeWarning: invalid value encountered in power\n",
      "  betaq[mask] = np.power((rand * alpha), (1.0 / (self.eta + 1.0)))[mask]\n"
     ]
    },
    {
     "name": "stdout",
     "output_type": "stream",
     "text": [
      "    5 |     500 |      45 |  0.612938358 |        nadir\n"
     ]
    },
    {
     "name": "stderr",
     "output_type": "stream",
     "text": [
      "/home/llr/cms/hakimi/.local/lib/python3.7/site-packages/pymoo/operators/crossover/simulated_binary_crossover.py:40: RuntimeWarning: divide by zero encountered in power\n",
      "  alpha = 2.0 - np.power(beta, -(self.eta + 1.0))\n",
      "/home/llr/cms/hakimi/.local/lib/python3.7/site-packages/pymoo/operators/crossover/simulated_binary_crossover.py:45: RuntimeWarning: invalid value encountered in power\n",
      "  betaq[mask] = np.power((rand * alpha), (1.0 / (self.eta + 1.0)))[mask]\n"
     ]
    },
    {
     "name": "stdout",
     "output_type": "stream",
     "text": [
      "    6 |     600 |      63 |  0.052631579 |        nadir\n"
     ]
    },
    {
     "name": "stderr",
     "output_type": "stream",
     "text": [
      "/home/llr/cms/hakimi/.local/lib/python3.7/site-packages/pymoo/operators/crossover/simulated_binary_crossover.py:40: RuntimeWarning: divide by zero encountered in power\n",
      "  alpha = 2.0 - np.power(beta, -(self.eta + 1.0))\n",
      "/home/llr/cms/hakimi/.local/lib/python3.7/site-packages/pymoo/operators/crossover/simulated_binary_crossover.py:45: RuntimeWarning: invalid value encountered in power\n",
      "  betaq[mask] = np.power((rand * alpha), (1.0 / (self.eta + 1.0)))[mask]\n"
     ]
    },
    {
     "name": "stdout",
     "output_type": "stream",
     "text": [
      "    7 |     700 |      53 |  0.090163934 |        nadir\n"
     ]
    },
    {
     "name": "stderr",
     "output_type": "stream",
     "text": [
      "/home/llr/cms/hakimi/.local/lib/python3.7/site-packages/pymoo/operators/crossover/simulated_binary_crossover.py:40: RuntimeWarning: divide by zero encountered in power\n",
      "  alpha = 2.0 - np.power(beta, -(self.eta + 1.0))\n",
      "/home/llr/cms/hakimi/.local/lib/python3.7/site-packages/pymoo/operators/crossover/simulated_binary_crossover.py:45: RuntimeWarning: invalid value encountered in power\n",
      "  betaq[mask] = np.power((rand * alpha), (1.0 / (self.eta + 1.0)))[mask]\n"
     ]
    },
    {
     "name": "stdout",
     "output_type": "stream",
     "text": [
      "    8 |     800 |      63 |  0.042735043 |        nadir\n"
     ]
    },
    {
     "name": "stderr",
     "output_type": "stream",
     "text": [
      "/home/llr/cms/hakimi/.local/lib/python3.7/site-packages/pymoo/operators/crossover/simulated_binary_crossover.py:40: RuntimeWarning: divide by zero encountered in power\n",
      "  alpha = 2.0 - np.power(beta, -(self.eta + 1.0))\n",
      "/home/llr/cms/hakimi/.local/lib/python3.7/site-packages/pymoo/operators/crossover/simulated_binary_crossover.py:45: RuntimeWarning: invalid value encountered in power\n",
      "  betaq[mask] = np.power((rand * alpha), (1.0 / (self.eta + 1.0)))[mask]\n"
     ]
    },
    {
     "name": "stdout",
     "output_type": "stream",
     "text": [
      "    9 |     900 |      77 |  0.083215768 |        nadir\n"
     ]
    },
    {
     "name": "stderr",
     "output_type": "stream",
     "text": [
      "/home/llr/cms/hakimi/.local/lib/python3.7/site-packages/pymoo/operators/crossover/simulated_binary_crossover.py:40: RuntimeWarning: divide by zero encountered in power\n",
      "  alpha = 2.0 - np.power(beta, -(self.eta + 1.0))\n",
      "/home/llr/cms/hakimi/.local/lib/python3.7/site-packages/pymoo/operators/crossover/simulated_binary_crossover.py:45: RuntimeWarning: invalid value encountered in power\n",
      "  betaq[mask] = np.power((rand * alpha), (1.0 / (self.eta + 1.0)))[mask]\n"
     ]
    },
    {
     "name": "stdout",
     "output_type": "stream",
     "text": [
      "   10 |    1000 |      78 |  0.194101222 |        nadir\n"
     ]
    },
    {
     "name": "stderr",
     "output_type": "stream",
     "text": [
      "/home/llr/cms/hakimi/.local/lib/python3.7/site-packages/pymoo/operators/crossover/simulated_binary_crossover.py:40: RuntimeWarning: divide by zero encountered in power\n",
      "  alpha = 2.0 - np.power(beta, -(self.eta + 1.0))\n",
      "/home/llr/cms/hakimi/.local/lib/python3.7/site-packages/pymoo/operators/crossover/simulated_binary_crossover.py:45: RuntimeWarning: invalid value encountered in power\n",
      "  betaq[mask] = np.power((rand * alpha), (1.0 / (self.eta + 1.0)))[mask]\n"
     ]
    },
    {
     "name": "stdout",
     "output_type": "stream",
     "text": [
      "   11 |    1100 |      85 |  0.009575761 |            f\n"
     ]
    },
    {
     "name": "stderr",
     "output_type": "stream",
     "text": [
      "/home/llr/cms/hakimi/.local/lib/python3.7/site-packages/pymoo/operators/crossover/simulated_binary_crossover.py:40: RuntimeWarning: divide by zero encountered in power\n",
      "  alpha = 2.0 - np.power(beta, -(self.eta + 1.0))\n",
      "/home/llr/cms/hakimi/.local/lib/python3.7/site-packages/pymoo/operators/crossover/simulated_binary_crossover.py:45: RuntimeWarning: invalid value encountered in power\n",
      "  betaq[mask] = np.power((rand * alpha), (1.0 / (self.eta + 1.0)))[mask]\n"
     ]
    },
    {
     "name": "stdout",
     "output_type": "stream",
     "text": [
      "   12 |    1200 |      97 |  0.013338241 |            f\n"
     ]
    },
    {
     "name": "stderr",
     "output_type": "stream",
     "text": [
      "/home/llr/cms/hakimi/.local/lib/python3.7/site-packages/pymoo/operators/crossover/simulated_binary_crossover.py:40: RuntimeWarning: divide by zero encountered in power\n",
      "  alpha = 2.0 - np.power(beta, -(self.eta + 1.0))\n",
      "/home/llr/cms/hakimi/.local/lib/python3.7/site-packages/pymoo/operators/crossover/simulated_binary_crossover.py:45: RuntimeWarning: invalid value encountered in power\n",
      "  betaq[mask] = np.power((rand * alpha), (1.0 / (self.eta + 1.0)))[mask]\n"
     ]
    },
    {
     "name": "stdout",
     "output_type": "stream",
     "text": [
      "   13 |    1300 |     100 |  0.011619368 |            f\n"
     ]
    },
    {
     "name": "stderr",
     "output_type": "stream",
     "text": [
      "/home/llr/cms/hakimi/.local/lib/python3.7/site-packages/pymoo/operators/crossover/simulated_binary_crossover.py:40: RuntimeWarning: divide by zero encountered in power\n",
      "  alpha = 2.0 - np.power(beta, -(self.eta + 1.0))\n",
      "/home/llr/cms/hakimi/.local/lib/python3.7/site-packages/pymoo/operators/crossover/simulated_binary_crossover.py:45: RuntimeWarning: invalid value encountered in power\n",
      "  betaq[mask] = np.power((rand * alpha), (1.0 / (self.eta + 1.0)))[mask]\n"
     ]
    },
    {
     "name": "stdout",
     "output_type": "stream",
     "text": [
      "   14 |    1400 |     100 |  0.006636799 |            f\n"
     ]
    },
    {
     "name": "stderr",
     "output_type": "stream",
     "text": [
      "/home/llr/cms/hakimi/.local/lib/python3.7/site-packages/pymoo/operators/crossover/simulated_binary_crossover.py:40: RuntimeWarning: divide by zero encountered in power\n",
      "  alpha = 2.0 - np.power(beta, -(self.eta + 1.0))\n",
      "/home/llr/cms/hakimi/.local/lib/python3.7/site-packages/pymoo/operators/crossover/simulated_binary_crossover.py:45: RuntimeWarning: invalid value encountered in power\n",
      "  betaq[mask] = np.power((rand * alpha), (1.0 / (self.eta + 1.0)))[mask]\n"
     ]
    },
    {
     "name": "stdout",
     "output_type": "stream",
     "text": [
      "   15 |    1500 |      95 |  0.008474576 |        ideal\n"
     ]
    },
    {
     "name": "stderr",
     "output_type": "stream",
     "text": [
      "/home/llr/cms/hakimi/.local/lib/python3.7/site-packages/pymoo/operators/crossover/simulated_binary_crossover.py:40: RuntimeWarning: divide by zero encountered in power\n",
      "  alpha = 2.0 - np.power(beta, -(self.eta + 1.0))\n",
      "/home/llr/cms/hakimi/.local/lib/python3.7/site-packages/pymoo/operators/crossover/simulated_binary_crossover.py:45: RuntimeWarning: invalid value encountered in power\n",
      "  betaq[mask] = np.power((rand * alpha), (1.0 / (self.eta + 1.0)))[mask]\n"
     ]
    },
    {
     "name": "stdout",
     "output_type": "stream",
     "text": [
      "   16 |    1600 |     100 |  0.016666667 |        ideal\n"
     ]
    },
    {
     "name": "stderr",
     "output_type": "stream",
     "text": [
      "/home/llr/cms/hakimi/.local/lib/python3.7/site-packages/pymoo/operators/crossover/simulated_binary_crossover.py:40: RuntimeWarning: divide by zero encountered in power\n",
      "  alpha = 2.0 - np.power(beta, -(self.eta + 1.0))\n",
      "/home/llr/cms/hakimi/.local/lib/python3.7/site-packages/pymoo/operators/crossover/simulated_binary_crossover.py:45: RuntimeWarning: invalid value encountered in power\n",
      "  betaq[mask] = np.power((rand * alpha), (1.0 / (self.eta + 1.0)))[mask]\n"
     ]
    },
    {
     "name": "stdout",
     "output_type": "stream",
     "text": [
      "   17 |    1700 |     100 |  0.100917431 |        nadir\n"
     ]
    },
    {
     "name": "stderr",
     "output_type": "stream",
     "text": [
      "/home/llr/cms/hakimi/.local/lib/python3.7/site-packages/pymoo/operators/crossover/simulated_binary_crossover.py:40: RuntimeWarning: divide by zero encountered in power\n",
      "  alpha = 2.0 - np.power(beta, -(self.eta + 1.0))\n",
      "/home/llr/cms/hakimi/.local/lib/python3.7/site-packages/pymoo/operators/crossover/simulated_binary_crossover.py:45: RuntimeWarning: invalid value encountered in power\n",
      "  betaq[mask] = np.power((rand * alpha), (1.0 / (self.eta + 1.0)))[mask]\n"
     ]
    },
    {
     "name": "stdout",
     "output_type": "stream",
     "text": [
      "   18 |    1800 |     100 |  0.243850703 |        nadir\n"
     ]
    },
    {
     "name": "stderr",
     "output_type": "stream",
     "text": [
      "/home/llr/cms/hakimi/.local/lib/python3.7/site-packages/pymoo/operators/crossover/simulated_binary_crossover.py:40: RuntimeWarning: divide by zero encountered in power\n",
      "  alpha = 2.0 - np.power(beta, -(self.eta + 1.0))\n",
      "/home/llr/cms/hakimi/.local/lib/python3.7/site-packages/pymoo/operators/crossover/simulated_binary_crossover.py:45: RuntimeWarning: invalid value encountered in power\n",
      "  betaq[mask] = np.power((rand * alpha), (1.0 / (self.eta + 1.0)))[mask]\n"
     ]
    },
    {
     "name": "stdout",
     "output_type": "stream",
     "text": [
      "   19 |    1900 |     100 |  0.005894385 |            f\n"
     ]
    },
    {
     "name": "stderr",
     "output_type": "stream",
     "text": [
      "/home/llr/cms/hakimi/.local/lib/python3.7/site-packages/pymoo/operators/crossover/simulated_binary_crossover.py:40: RuntimeWarning: divide by zero encountered in power\n",
      "  alpha = 2.0 - np.power(beta, -(self.eta + 1.0))\n",
      "/home/llr/cms/hakimi/.local/lib/python3.7/site-packages/pymoo/operators/crossover/simulated_binary_crossover.py:45: RuntimeWarning: invalid value encountered in power\n",
      "  betaq[mask] = np.power((rand * alpha), (1.0 / (self.eta + 1.0)))[mask]\n"
     ]
    },
    {
     "name": "stdout",
     "output_type": "stream",
     "text": [
      "   20 |    2000 |     100 |  0.324425658 |        nadir\n"
     ]
    },
    {
     "name": "stderr",
     "output_type": "stream",
     "text": [
      "/home/llr/cms/hakimi/.local/lib/python3.7/site-packages/pymoo/operators/crossover/simulated_binary_crossover.py:40: RuntimeWarning: divide by zero encountered in power\n",
      "  alpha = 2.0 - np.power(beta, -(self.eta + 1.0))\n",
      "/home/llr/cms/hakimi/.local/lib/python3.7/site-packages/pymoo/operators/crossover/simulated_binary_crossover.py:45: RuntimeWarning: invalid value encountered in power\n",
      "  betaq[mask] = np.power((rand * alpha), (1.0 / (self.eta + 1.0)))[mask]\n"
     ]
    },
    {
     "name": "stdout",
     "output_type": "stream",
     "text": [
      "   21 |    2100 |     100 |  0.003520482 |            f\n"
     ]
    },
    {
     "name": "stderr",
     "output_type": "stream",
     "text": [
      "/home/llr/cms/hakimi/.local/lib/python3.7/site-packages/pymoo/operators/crossover/simulated_binary_crossover.py:40: RuntimeWarning: divide by zero encountered in power\n",
      "  alpha = 2.0 - np.power(beta, -(self.eta + 1.0))\n",
      "/home/llr/cms/hakimi/.local/lib/python3.7/site-packages/pymoo/operators/crossover/simulated_binary_crossover.py:45: RuntimeWarning: invalid value encountered in power\n",
      "  betaq[mask] = np.power((rand * alpha), (1.0 / (self.eta + 1.0)))[mask]\n"
     ]
    },
    {
     "name": "stdout",
     "output_type": "stream",
     "text": [
      "   22 |    2200 |     100 |  0.009433962 |        ideal\n"
     ]
    },
    {
     "name": "stderr",
     "output_type": "stream",
     "text": [
      "/home/llr/cms/hakimi/.local/lib/python3.7/site-packages/pymoo/operators/crossover/simulated_binary_crossover.py:40: RuntimeWarning: divide by zero encountered in power\n",
      "  alpha = 2.0 - np.power(beta, -(self.eta + 1.0))\n",
      "/home/llr/cms/hakimi/.local/lib/python3.7/site-packages/pymoo/operators/crossover/simulated_binary_crossover.py:45: RuntimeWarning: invalid value encountered in power\n",
      "  betaq[mask] = np.power((rand * alpha), (1.0 / (self.eta + 1.0)))[mask]\n"
     ]
    },
    {
     "name": "stdout",
     "output_type": "stream",
     "text": [
      "   23 |    2300 |     100 |  0.003917513 |            f\n"
     ]
    },
    {
     "name": "stderr",
     "output_type": "stream",
     "text": [
      "/home/llr/cms/hakimi/.local/lib/python3.7/site-packages/pymoo/operators/crossover/simulated_binary_crossover.py:40: RuntimeWarning: divide by zero encountered in power\n",
      "  alpha = 2.0 - np.power(beta, -(self.eta + 1.0))\n",
      "/home/llr/cms/hakimi/.local/lib/python3.7/site-packages/pymoo/operators/crossover/simulated_binary_crossover.py:45: RuntimeWarning: invalid value encountered in power\n",
      "  betaq[mask] = np.power((rand * alpha), (1.0 / (self.eta + 1.0)))[mask]\n"
     ]
    },
    {
     "name": "stdout",
     "output_type": "stream",
     "text": [
      "   24 |    2400 |     100 |  0.078964145 |        nadir\n"
     ]
    },
    {
     "name": "stderr",
     "output_type": "stream",
     "text": [
      "/home/llr/cms/hakimi/.local/lib/python3.7/site-packages/pymoo/operators/crossover/simulated_binary_crossover.py:40: RuntimeWarning: divide by zero encountered in power\n",
      "  alpha = 2.0 - np.power(beta, -(self.eta + 1.0))\n",
      "/home/llr/cms/hakimi/.local/lib/python3.7/site-packages/pymoo/operators/crossover/simulated_binary_crossover.py:45: RuntimeWarning: invalid value encountered in power\n",
      "  betaq[mask] = np.power((rand * alpha), (1.0 / (self.eta + 1.0)))[mask]\n"
     ]
    },
    {
     "name": "stdout",
     "output_type": "stream",
     "text": [
      "   25 |    2500 |     100 |  0.009345794 |        ideal\n"
     ]
    },
    {
     "name": "stderr",
     "output_type": "stream",
     "text": [
      "/home/llr/cms/hakimi/.local/lib/python3.7/site-packages/pymoo/operators/crossover/simulated_binary_crossover.py:40: RuntimeWarning: divide by zero encountered in power\n",
      "  alpha = 2.0 - np.power(beta, -(self.eta + 1.0))\n",
      "/home/llr/cms/hakimi/.local/lib/python3.7/site-packages/pymoo/operators/crossover/simulated_binary_crossover.py:45: RuntimeWarning: invalid value encountered in power\n",
      "  betaq[mask] = np.power((rand * alpha), (1.0 / (self.eta + 1.0)))[mask]\n"
     ]
    },
    {
     "name": "stdout",
     "output_type": "stream",
     "text": [
      "   26 |    2600 |     100 |  0.300213755 |        nadir\n"
     ]
    },
    {
     "name": "stderr",
     "output_type": "stream",
     "text": [
      "/home/llr/cms/hakimi/.local/lib/python3.7/site-packages/pymoo/operators/crossover/simulated_binary_crossover.py:40: RuntimeWarning: divide by zero encountered in power\n",
      "  alpha = 2.0 - np.power(beta, -(self.eta + 1.0))\n",
      "/home/llr/cms/hakimi/.local/lib/python3.7/site-packages/pymoo/operators/crossover/simulated_binary_crossover.py:45: RuntimeWarning: invalid value encountered in power\n",
      "  betaq[mask] = np.power((rand * alpha), (1.0 / (self.eta + 1.0)))[mask]\n"
     ]
    },
    {
     "name": "stdout",
     "output_type": "stream",
     "text": [
      "   27 |    2700 |     100 |  0.003560534 |            f\n"
     ]
    },
    {
     "name": "stderr",
     "output_type": "stream",
     "text": [
      "/home/llr/cms/hakimi/.local/lib/python3.7/site-packages/pymoo/operators/crossover/simulated_binary_crossover.py:40: RuntimeWarning: divide by zero encountered in power\n",
      "  alpha = 2.0 - np.power(beta, -(self.eta + 1.0))\n",
      "/home/llr/cms/hakimi/.local/lib/python3.7/site-packages/pymoo/operators/crossover/simulated_binary_crossover.py:45: RuntimeWarning: invalid value encountered in power\n",
      "  betaq[mask] = np.power((rand * alpha), (1.0 / (self.eta + 1.0)))[mask]\n"
     ]
    },
    {
     "name": "stdout",
     "output_type": "stream",
     "text": [
      "   28 |    2800 |     100 |  0.002292418 |            f\n"
     ]
    },
    {
     "name": "stderr",
     "output_type": "stream",
     "text": [
      "/home/llr/cms/hakimi/.local/lib/python3.7/site-packages/pymoo/operators/crossover/simulated_binary_crossover.py:40: RuntimeWarning: divide by zero encountered in power\n",
      "  alpha = 2.0 - np.power(beta, -(self.eta + 1.0))\n",
      "/home/llr/cms/hakimi/.local/lib/python3.7/site-packages/pymoo/operators/crossover/simulated_binary_crossover.py:45: RuntimeWarning: invalid value encountered in power\n",
      "  betaq[mask] = np.power((rand * alpha), (1.0 / (self.eta + 1.0)))[mask]\n"
     ]
    },
    {
     "name": "stdout",
     "output_type": "stream",
     "text": [
      "   29 |    2900 |     100 |  0.004358351 |            f\n"
     ]
    },
    {
     "name": "stderr",
     "output_type": "stream",
     "text": [
      "/home/llr/cms/hakimi/.local/lib/python3.7/site-packages/pymoo/operators/crossover/simulated_binary_crossover.py:40: RuntimeWarning: divide by zero encountered in power\n",
      "  alpha = 2.0 - np.power(beta, -(self.eta + 1.0))\n",
      "/home/llr/cms/hakimi/.local/lib/python3.7/site-packages/pymoo/operators/crossover/simulated_binary_crossover.py:45: RuntimeWarning: invalid value encountered in power\n",
      "  betaq[mask] = np.power((rand * alpha), (1.0 / (self.eta + 1.0)))[mask]\n"
     ]
    },
    {
     "name": "stdout",
     "output_type": "stream",
     "text": [
      "   30 |    3000 |     100 |  0.706973978 |        nadir\n"
     ]
    },
    {
     "name": "stderr",
     "output_type": "stream",
     "text": [
      "/home/llr/cms/hakimi/.local/lib/python3.7/site-packages/pymoo/operators/crossover/simulated_binary_crossover.py:40: RuntimeWarning: divide by zero encountered in power\n",
      "  alpha = 2.0 - np.power(beta, -(self.eta + 1.0))\n",
      "/home/llr/cms/hakimi/.local/lib/python3.7/site-packages/pymoo/operators/crossover/simulated_binary_crossover.py:45: RuntimeWarning: invalid value encountered in power\n",
      "  betaq[mask] = np.power((rand * alpha), (1.0 / (self.eta + 1.0)))[mask]\n"
     ]
    },
    {
     "name": "stdout",
     "output_type": "stream",
     "text": [
      "   31 |    3100 |     100 |  0.018348624 |        ideal\n"
     ]
    },
    {
     "name": "stderr",
     "output_type": "stream",
     "text": [
      "/home/llr/cms/hakimi/.local/lib/python3.7/site-packages/pymoo/operators/crossover/simulated_binary_crossover.py:40: RuntimeWarning: divide by zero encountered in power\n",
      "  alpha = 2.0 - np.power(beta, -(self.eta + 1.0))\n",
      "/home/llr/cms/hakimi/.local/lib/python3.7/site-packages/pymoo/operators/crossover/simulated_binary_crossover.py:45: RuntimeWarning: invalid value encountered in power\n",
      "  betaq[mask] = np.power((rand * alpha), (1.0 / (self.eta + 1.0)))[mask]\n"
     ]
    },
    {
     "name": "stdout",
     "output_type": "stream",
     "text": [
      "   32 |    3200 |     100 |  0.004455528 |            f\n"
     ]
    },
    {
     "name": "stderr",
     "output_type": "stream",
     "text": [
      "/home/llr/cms/hakimi/.local/lib/python3.7/site-packages/pymoo/operators/crossover/simulated_binary_crossover.py:40: RuntimeWarning: divide by zero encountered in power\n",
      "  alpha = 2.0 - np.power(beta, -(self.eta + 1.0))\n",
      "/home/llr/cms/hakimi/.local/lib/python3.7/site-packages/pymoo/operators/crossover/simulated_binary_crossover.py:45: RuntimeWarning: invalid value encountered in power\n",
      "  betaq[mask] = np.power((rand * alpha), (1.0 / (self.eta + 1.0)))[mask]\n"
     ]
    },
    {
     "name": "stdout",
     "output_type": "stream",
     "text": [
      "   33 |    3300 |     100 |  0.035398230 |        nadir\n"
     ]
    },
    {
     "name": "stderr",
     "output_type": "stream",
     "text": [
      "/home/llr/cms/hakimi/.local/lib/python3.7/site-packages/pymoo/operators/crossover/simulated_binary_crossover.py:40: RuntimeWarning: divide by zero encountered in power\n",
      "  alpha = 2.0 - np.power(beta, -(self.eta + 1.0))\n",
      "/home/llr/cms/hakimi/.local/lib/python3.7/site-packages/pymoo/operators/crossover/simulated_binary_crossover.py:45: RuntimeWarning: invalid value encountered in power\n",
      "  betaq[mask] = np.power((rand * alpha), (1.0 / (self.eta + 1.0)))[mask]\n"
     ]
    },
    {
     "name": "stdout",
     "output_type": "stream",
     "text": [
      "   34 |    3400 |     100 |  0.036697248 |        nadir\n"
     ]
    },
    {
     "name": "stderr",
     "output_type": "stream",
     "text": [
      "/home/llr/cms/hakimi/.local/lib/python3.7/site-packages/pymoo/operators/crossover/simulated_binary_crossover.py:45: RuntimeWarning: invalid value encountered in power\n",
      "  betaq[mask] = np.power((rand * alpha), (1.0 / (self.eta + 1.0)))[mask]\n"
     ]
    },
    {
     "name": "stdout",
     "output_type": "stream",
     "text": [
      "   35 |    3500 |     100 |  0.003622843 |            f\n"
     ]
    },
    {
     "name": "stderr",
     "output_type": "stream",
     "text": [
      "/home/llr/cms/hakimi/.local/lib/python3.7/site-packages/pymoo/operators/crossover/simulated_binary_crossover.py:40: RuntimeWarning: divide by zero encountered in power\n",
      "  alpha = 2.0 - np.power(beta, -(self.eta + 1.0))\n",
      "/home/llr/cms/hakimi/.local/lib/python3.7/site-packages/pymoo/operators/crossover/simulated_binary_crossover.py:45: RuntimeWarning: invalid value encountered in power\n",
      "  betaq[mask] = np.power((rand * alpha), (1.0 / (self.eta + 1.0)))[mask]\n"
     ]
    },
    {
     "name": "stdout",
     "output_type": "stream",
     "text": [
      "   36 |    3600 |     100 |  0.163058565 |        nadir\n"
     ]
    },
    {
     "name": "stderr",
     "output_type": "stream",
     "text": [
      "/home/llr/cms/hakimi/.local/lib/python3.7/site-packages/pymoo/operators/crossover/simulated_binary_crossover.py:40: RuntimeWarning: divide by zero encountered in power\n",
      "  alpha = 2.0 - np.power(beta, -(self.eta + 1.0))\n",
      "/home/llr/cms/hakimi/.local/lib/python3.7/site-packages/pymoo/operators/crossover/simulated_binary_crossover.py:45: RuntimeWarning: invalid value encountered in power\n",
      "  betaq[mask] = np.power((rand * alpha), (1.0 / (self.eta + 1.0)))[mask]\n"
     ]
    },
    {
     "name": "stdout",
     "output_type": "stream",
     "text": [
      "   37 |    3700 |     100 |  0.004266672 |            f\n"
     ]
    },
    {
     "name": "stderr",
     "output_type": "stream",
     "text": [
      "/home/llr/cms/hakimi/.local/lib/python3.7/site-packages/pymoo/operators/crossover/simulated_binary_crossover.py:40: RuntimeWarning: divide by zero encountered in power\n",
      "  alpha = 2.0 - np.power(beta, -(self.eta + 1.0))\n",
      "/home/llr/cms/hakimi/.local/lib/python3.7/site-packages/pymoo/operators/crossover/simulated_binary_crossover.py:45: RuntimeWarning: invalid value encountered in power\n",
      "  betaq[mask] = np.power((rand * alpha), (1.0 / (self.eta + 1.0)))[mask]\n"
     ]
    },
    {
     "name": "stdout",
     "output_type": "stream",
     "text": [
      "   38 |    3800 |     100 |  0.003078005 |            f\n"
     ]
    },
    {
     "name": "stderr",
     "output_type": "stream",
     "text": [
      "/home/llr/cms/hakimi/.local/lib/python3.7/site-packages/pymoo/operators/crossover/simulated_binary_crossover.py:40: RuntimeWarning: divide by zero encountered in power\n",
      "  alpha = 2.0 - np.power(beta, -(self.eta + 1.0))\n",
      "/home/llr/cms/hakimi/.local/lib/python3.7/site-packages/pymoo/operators/crossover/simulated_binary_crossover.py:45: RuntimeWarning: invalid value encountered in power\n",
      "  betaq[mask] = np.power((rand * alpha), (1.0 / (self.eta + 1.0)))[mask]\n"
     ]
    },
    {
     "name": "stdout",
     "output_type": "stream",
     "text": [
      "   39 |    3900 |     100 |  0.003673980 |            f\n"
     ]
    },
    {
     "name": "stderr",
     "output_type": "stream",
     "text": [
      "/home/llr/cms/hakimi/.local/lib/python3.7/site-packages/pymoo/operators/crossover/simulated_binary_crossover.py:40: RuntimeWarning: divide by zero encountered in power\n",
      "  alpha = 2.0 - np.power(beta, -(self.eta + 1.0))\n",
      "/home/llr/cms/hakimi/.local/lib/python3.7/site-packages/pymoo/operators/crossover/simulated_binary_crossover.py:45: RuntimeWarning: invalid value encountered in power\n",
      "  betaq[mask] = np.power((rand * alpha), (1.0 / (self.eta + 1.0)))[mask]\n"
     ]
    },
    {
     "name": "stdout",
     "output_type": "stream",
     "text": [
      "   40 |    4000 |     100 |  0.026785714 |        ideal\n",
      "Best solution found: [[ 0  0  1 ... 77  2  4]\n",
      " [11  5  2 ... 71  2  1]\n",
      " [ 0  0  0 ...  2  2  4]\n",
      " ...\n",
      " [ 1  1  3 ...  7  3  1]\n",
      " [ 1  0  3 ...  7  3  1]\n",
      " [ 0  0  1 ...  4  3  1]]\n",
      "Function value: [[-3.22444697e-01  6.00000000e+00  1.00000000e+01]\n",
      " [-9.97519855e-01  1.18000000e+02  9.19000000e+02]\n",
      " [-4.72701798e-01  1.20000000e+01  0.00000000e+00]\n",
      " [-9.98480350e-01  1.09000000e+02  4.82710000e+04]\n",
      " [-9.98479500e-01  1.01000000e+02  2.98330000e+04]\n",
      " [-6.84941060e-01  9.00000000e+00  1.20000000e+01]\n",
      " [-7.28307543e-01  1.20000000e+01  6.00000000e+00]\n",
      " [-8.79131295e-01  1.30000000e+01  0.00000000e+00]\n",
      " [-3.73321171e-01  9.00000000e+00  1.10000000e+01]\n",
      " [-9.98450638e-01  9.00000000e+01  2.42200000e+04]\n",
      " [-9.98382703e-01  6.80000000e+01  1.21150000e+04]\n",
      " [-9.41791641e-01  1.40000000e+01  0.00000000e+00]\n",
      " [-3.24164916e-01  9.00000000e+00  2.00000000e+00]\n",
      " [-8.85938370e-01  1.30000000e+01  9.00000000e+00]\n",
      " [-9.98478236e-01  9.60000000e+01  2.04040000e+04]\n",
      " [-9.98436234e-01  9.70000000e+01  1.56410000e+04]\n",
      " [-7.07906050e-01  1.00000000e+01  2.00000000e+00]\n",
      " [-9.98383470e-01  7.50000000e+01  2.00360000e+04]\n",
      " [-9.98111757e-01  4.10000000e+01  9.74200000e+03]\n",
      " [-9.98421216e-01  8.40000000e+01  2.60630000e+04]\n",
      " [-9.98469752e-01  9.90000000e+01  1.75130000e+04]\n",
      " [-9.98435028e-01  8.30000000e+01  2.76480000e+04]\n",
      " [-9.98418475e-01  8.50000000e+01  1.83760000e+04]\n",
      " [-9.98458084e-01  1.01000000e+02  1.68410000e+04]\n",
      " [-9.98348929e-01  5.50000000e+01  4.63600000e+03]\n",
      " [-9.98423619e-01  8.80000000e+01  2.62550000e+04]\n",
      " [-9.75844717e-01  2.40000000e+01  0.00000000e+00]\n",
      " [-9.61280064e-01  1.60000000e+01  0.00000000e+00]\n",
      " [-9.98428943e-01  8.00000000e+01  2.75130000e+04]\n",
      " [-9.98460941e-01  8.80000000e+01  2.93910000e+04]\n",
      " [-9.98160977e-01  4.70000000e+01  9.31500000e+03]\n",
      " [-9.98397868e-01  8.70000000e+01  1.59540000e+04]\n",
      " [-7.25727811e-01  1.00000000e+01  5.00000000e+00]\n",
      " [-9.64204233e-01  1.70000000e+01  0.00000000e+00]\n",
      " [-9.98170372e-01  4.90000000e+01  7.23800000e+03]\n",
      " [-9.96248805e-01  7.20000000e+01  4.24000000e+02]\n",
      " [-9.98171549e-01  5.10000000e+01  5.35900000e+03]\n",
      " [-9.96431046e-01  3.10000000e+01  9.40000000e+02]\n",
      " [-9.86531371e-01  1.80000000e+01  5.58000000e+02]\n",
      " [-9.93737465e-01  1.11000000e+02  8.10000000e+01]\n",
      " [-9.92678916e-01  6.30000000e+01  8.90000000e+01]\n",
      " [-9.98355785e-01  6.50000000e+01  7.54300000e+03]\n",
      " [-9.98392743e-01  7.90000000e+01  8.09500000e+03]\n",
      " [-9.91926949e-01  3.40000000e+01  9.00000000e+00]\n",
      " [-9.90400177e-01  2.00000000e+01  5.25000000e+02]\n",
      " [-9.98474286e-01  1.07000000e+02  1.83540000e+04]\n",
      " [-9.98382037e-01  8.10000000e+01  5.98800000e+03]\n",
      " [-9.84184764e-01  1.50000000e+01  1.00000000e+00]\n",
      " [-9.98359814e-01  6.60000000e+01  6.78500000e+03]\n",
      " [-9.98160512e-01  5.20000000e+01  2.77500000e+03]\n",
      " [-9.97203142e-01  3.50000000e+01  5.04800000e+03]\n",
      " [-9.98249302e-01  5.60000000e+01  3.51400000e+03]\n",
      " [-9.98078779e-01  5.40000000e+01  1.56600000e+03]\n",
      " [-9.98200028e-01  5.70000000e+01  1.93600000e+03]\n",
      " [-9.91815187e-01  2.10000000e+01  6.60000000e+01]\n",
      " [-9.97880907e-01  4.40000000e+01  2.24600000e+03]\n",
      " [-9.97505453e-01  1.16000000e+02  8.88000000e+02]\n",
      " [-9.92316323e-01  2.50000000e+01  2.52000000e+02]\n",
      " [-9.93031219e-01  2.70000000e+01  5.76000000e+02]\n",
      " [-9.98107744e-01  3.80000000e+01  7.97800000e+03]\n",
      " [-9.97919331e-01  7.70000000e+01  1.27800000e+03]\n",
      " [-9.97343817e-01  9.20000000e+01  7.50000000e+02]\n",
      " [-9.97447748e-01  5.90000000e+01  9.55000000e+02]\n",
      " [-9.97503985e-01  1.13000000e+02  1.16500000e+03]\n",
      " [-9.97557609e-01  3.70000000e+01  2.70000000e+03]\n",
      " [-9.97261797e-01  7.00000000e+01  4.93000000e+02]\n",
      " [-9.98148315e-01  4.30000000e+01  9.39400000e+03]\n",
      " [-9.98388215e-01  7.90000000e+01  6.18500000e+03]\n",
      " [-9.98439314e-01  1.05000000e+02  1.57090000e+04]\n",
      " [-9.93345826e-01  2.30000000e+01  1.72200000e+03]\n",
      " [-9.61603133e-01  1.10000000e+01  1.30000000e+01]\n",
      " [-9.97926328e-01  4.60000000e+01  1.86000000e+03]\n",
      " [-9.96909256e-01  2.80000000e+01  2.11400000e+03]\n",
      " [-9.97390157e-01  4.20000000e+01  2.05700000e+03]\n",
      " [-9.97346008e-01  3.90000000e+01  1.48800000e+03]\n",
      " [-9.95976256e-01  2.90000000e+01  9.98000000e+02]\n",
      " [-9.96745059e-01  6.70000000e+01  6.86000000e+02]\n",
      " [-9.97786402e-01  6.00000000e+01  1.38100000e+03]\n",
      " [-9.96050032e-01  4.80000000e+01  3.66000000e+02]\n",
      " [-9.95456319e-01  1.09000000e+02  1.55000000e+02]\n",
      " [-9.97800283e-01  6.10000000e+01  1.28000000e+03]\n",
      " [-9.95729743e-01  1.03000000e+02  2.98000000e+02]\n",
      " [-9.97192528e-01  4.00000000e+01  1.13900000e+03]\n",
      " [-9.94346522e-01  6.80000000e+01  1.01000000e+02]\n",
      " [-9.95937735e-01  1.03000000e+02  3.31000000e+02]\n",
      " [-9.97681888e-01  3.60000000e+01  2.72600000e+03]\n",
      " [-9.97411883e-01  9.40000000e+01  6.53000000e+02]\n",
      " [-9.93278993e-01  3.00000000e+01  4.69000000e+02]\n",
      " [-9.95576085e-01  8.60000000e+01  2.61000000e+02]\n",
      " [-9.95068692e-01  8.20000000e+01  1.30000000e+02]\n",
      " [-9.98231938e-01  5.60000000e+01  3.05900000e+03]\n",
      " [-9.94767866e-01  7.50000000e+01  1.03000000e+02]\n",
      " [-9.94881049e-01  1.16000000e+02  1.21000000e+02]\n",
      " [-9.93527345e-01  2.30000000e+01  6.92200000e+03]\n",
      " [-9.95436342e-01  9.40000000e+01  2.54000000e+02]\n",
      " [-9.92502649e-01  9.10000000e+01  7.40000000e+01]\n",
      " [-9.97321150e-01  7.10000000e+01  7.52000000e+02]\n",
      " [-9.93598195e-01  1.13000000e+02  7.20000000e+01]\n",
      " [-9.93389169e-01  1.05000000e+02  8.20000000e+01]\n",
      " [-9.93190712e-01  1.00000000e+02  7.20000000e+01]]\n",
      "Constraint violation: [[0.]\n",
      " [0.]\n",
      " [0.]\n",
      " [0.]\n",
      " [0.]\n",
      " [0.]\n",
      " [0.]\n",
      " [0.]\n",
      " [0.]\n",
      " [0.]\n",
      " [0.]\n",
      " [0.]\n",
      " [0.]\n",
      " [0.]\n",
      " [0.]\n",
      " [0.]\n",
      " [0.]\n",
      " [0.]\n",
      " [0.]\n",
      " [0.]\n",
      " [0.]\n",
      " [0.]\n",
      " [0.]\n",
      " [0.]\n",
      " [0.]\n",
      " [0.]\n",
      " [0.]\n",
      " [0.]\n",
      " [0.]\n",
      " [0.]\n",
      " [0.]\n",
      " [0.]\n",
      " [0.]\n",
      " [0.]\n",
      " [0.]\n",
      " [0.]\n",
      " [0.]\n",
      " [0.]\n",
      " [0.]\n",
      " [0.]\n",
      " [0.]\n",
      " [0.]\n",
      " [0.]\n",
      " [0.]\n",
      " [0.]\n",
      " [0.]\n",
      " [0.]\n",
      " [0.]\n",
      " [0.]\n",
      " [0.]\n",
      " [0.]\n",
      " [0.]\n",
      " [0.]\n",
      " [0.]\n",
      " [0.]\n",
      " [0.]\n",
      " [0.]\n",
      " [0.]\n",
      " [0.]\n",
      " [0.]\n",
      " [0.]\n",
      " [0.]\n",
      " [0.]\n",
      " [0.]\n",
      " [0.]\n",
      " [0.]\n",
      " [0.]\n",
      " [0.]\n",
      " [0.]\n",
      " [0.]\n",
      " [0.]\n",
      " [0.]\n",
      " [0.]\n",
      " [0.]\n",
      " [0.]\n",
      " [0.]\n",
      " [0.]\n",
      " [0.]\n",
      " [0.]\n",
      " [0.]\n",
      " [0.]\n",
      " [0.]\n",
      " [0.]\n",
      " [0.]\n",
      " [0.]\n",
      " [0.]\n",
      " [0.]\n",
      " [0.]\n",
      " [0.]\n",
      " [0.]\n",
      " [0.]\n",
      " [0.]\n",
      " [0.]\n",
      " [0.]\n",
      " [0.]\n",
      " [0.]\n",
      " [0.]\n",
      " [0.]\n",
      " [0.]\n",
      " [0.]]\n"
     ]
    }
   ],
   "source": [
    "pd.options.mode.chained_assignment = None  # default='warn'    \n",
    "import warnings\n",
    "warnings.filterwarnings(\"ignore\", category=FutureWarning) \n",
    "warnings.filterwarnings(\"ignore\", category=DeprecationWarning)\n",
    "\n",
    "\n",
    "#hyperdiagonal sampling:\n",
    "max_val=16 #maximum precision\n",
    "pop_size=100 #number of indivuiduals in first generation\n",
    "sampling=initial_pop(pop_size, True)\n",
    "\n",
    "proxy=pd.read_csv('conifer_table.csv') # output from LUT_estimation.ipynb\n",
    "\n",
    "method = get_algorithm(\"nsga2\", # Non-doiminated sorting algorithm II, may use nsga3 for more than 3 objectives\n",
    "                       pop_size=pop_size, #number of individual at each generation\n",
    "                       sampling=sampling, #initial population\n",
    "                       crossover=get_crossover(\"int_sbx\", prob=1.0, eta=3.0), #crossover function\n",
    "                       mutation=get_mutation(\"int_pm\", eta=3.0), # def 3 #mutation functin\n",
    "                       eliminate_duplicates=True,\n",
    "                       )\n",
    "\n",
    "\n",
    "res = minimize(problem,\n",
    "               method,\n",
    "               termination=('n_gen', 40), #end point, 40 generation seems to be enough\n",
    "               seed=42,\n",
    "               save_history=True,\n",
    "               verbose=True\n",
    "               )\n",
    "\n",
    "print(\"Best solution found: %s\" % res.X)\n",
    "print(\"Function value: %s\" % res.F)\n",
    "print(\"Constraint violation: %s\" % res.CV)"
   ]
  },
  {
   "cell_type": "code",
   "execution_count": 140,
   "metadata": {},
   "outputs": [],
   "source": [
    "moo_name= '40gen_diag_auc_mut10_3d_conifer_v2'\n",
    "\n",
    "import pickle as pkl\n",
    "pkl.dump(res, open(savedir + '{}.pkl'.format(moo_name), 'wb'))"
   ]
  }
 ],
 "metadata": {
  "kernelspec": {
   "display_name": "Python 3",
   "language": "python",
   "name": "python3"
  },
  "language_info": {
   "codemirror_mode": {
    "name": "ipython",
    "version": 3
   },
   "file_extension": ".py",
   "mimetype": "text/x-python",
   "name": "python",
   "nbconvert_exporter": "python",
   "pygments_lexer": "ipython3",
   "version": "3.7.0"
  }
 },
 "nbformat": 4,
 "nbformat_minor": 2
}
